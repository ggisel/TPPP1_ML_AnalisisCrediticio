{
 "cells": [
  {
   "cell_type": "markdown",
   "id": "04e9e27c",
   "metadata": {},
   "source": [
    "#### Pasos\n",
    "1. Carga de datos\n",
    "2. Análisis exploratorio de los datos (EDA)\n",
    "3. Preparación de los datos\n",
    "4. Modelado\n",
    "5. Evaluación\n",
    "\n",
    "#### Información del DataSet\n",
    "El conjunto de datos informa características de morosidad para 5960 préstamos con garantía hipotecaria. Un prestamo con garantía hipotecaría es un préstamo en el que el deudor utiliza el capital de su casa como garantía subyacente\n",
    "\n",
    "- **0 BAD:** 1 = Candidato con préstamos incumplidos o con mora; 0 = candidato que paga su deuda y no tiene registro negativo\n",
    "- **1 LOAN:** Monto de solicitud de préstamos\n",
    "- **3 MORTDUE:** Monto adeudado de la hipoteca existente\n",
    "- **4 VALUE:** Valor actual del bien o propiedad\n",
    "- **5 REASON:** DebtCon = consolidación de la deuda; Homelmp = mejoras para el hogar\n",
    "- **6 JOB:** Categorías ocupacionales o profesionales\n",
    "- **7 YOJ:** Años en su trabajo actual\n",
    "- **8 DEROG:** Número de informes derogados o cancelados importantes\n",
    "- **9 DELINQ:** Numero de lineas de crédito morosas\n",
    "- **10 CLAGE:** Antiguedad de la linea de crédito más antigua en meses\n",
    "- **11 NINQ:** Número de consultas crediticias recientes\n",
    "- **13 CLNO:** Número de lineas de crédito\n",
    "- **14 DEBTINC:** relación deuda-ingreso\n"
   ]
  },
  {
   "cell_type": "markdown",
   "id": "2f4ddbe9",
   "metadata": {},
   "source": [
    "# 1. Carga de datos"
   ]
  },
  {
   "cell_type": "markdown",
   "id": "382dc4ba",
   "metadata": {},
   "source": [
    "## 1.1 Importamos librerias"
   ]
  },
  {
   "cell_type": "code",
   "execution_count": 60,
   "id": "086654a3",
   "metadata": {},
   "outputs": [],
   "source": [
    "# Tratamiento de datos\n",
    "# ====================================================================\n",
    "import pandas as pd\n",
    "import numpy as np\n",
    "from tabulate import tabulate\n",
    "import pickle\n",
    "\n",
    "# Graficos\n",
    "# ====================================================================\n",
    "import matplotlib.pyplot as plt\n",
    "import pylab as pl\n",
    "from matplotlib import style\n",
    "import matplotlib.ticker as ticker\n",
    "import seaborn as sns\n",
    "import statsmodels.api as sm\n",
    "from scipy import constants\n",
    "\n",
    "# Codificador para variables categoricas\n",
    "# ====================================================================\n",
    "from sklearn.preprocessing import OneHotEncoder\n",
    "\n",
    "# Para estandarizar nuestros datos\n",
    "# ====================================================================\n",
    "from sklearn.preprocessing import RobustScaler, Normalizer\n",
    "\n",
    "# Division del dataset en train y test\n",
    "# ====================================================================\n",
    "from sklearn.model_selection import train_test_split, GridSearchCV\n",
    "\n",
    "# Entrenamiento del modelo\n",
    "# ====================================================================\n",
    "from sklearn.linear_model import LogisticRegression\n",
    "from sklearn.ensemble import RandomForestClassifier\n",
    "\n",
    "# Evaluación\n",
    "# ====================================================================\n",
    "from sklearn.metrics import roc_curve, confusion_matrix, accuracy_score, f1_score, precision_score, recall_score\n",
    "from prettytable import PrettyTable # lo usamos para imprimir una tabla con formato bonito\n",
    "\n",
    "# Ocultando las advertencias\n",
    "# ==================================================================\n",
    "import warnings\n",
    "warnings.filterwarnings('ignore')\n"
   ]
  },
  {
   "cell_type": "markdown",
   "id": "735bf604",
   "metadata": {},
   "source": [
    "## 1.2 Cargamos el dataset"
   ]
  },
  {
   "cell_type": "code",
   "execution_count": 61,
   "id": "fab1dc44",
   "metadata": {},
   "outputs": [],
   "source": [
    "df = pd.read_csv('data.csv')"
   ]
  },
  {
   "cell_type": "markdown",
   "id": "b3bf83d3",
   "metadata": {},
   "source": [
    "# 2. Análisis exploratorio de los datos (EDA)"
   ]
  },
  {
   "cell_type": "markdown",
   "id": "b76190bc",
   "metadata": {},
   "source": [
    "## 2.1 Primeras entradas"
   ]
  },
  {
   "cell_type": "code",
   "execution_count": 62,
   "id": "8b0c1987",
   "metadata": {},
   "outputs": [
    {
     "data": {
      "text/html": [
       "<div>\n",
       "<style scoped>\n",
       "    .dataframe tbody tr th:only-of-type {\n",
       "        vertical-align: middle;\n",
       "    }\n",
       "\n",
       "    .dataframe tbody tr th {\n",
       "        vertical-align: top;\n",
       "    }\n",
       "\n",
       "    .dataframe thead th {\n",
       "        text-align: right;\n",
       "    }\n",
       "</style>\n",
       "<table border=\"1\" class=\"dataframe\">\n",
       "  <thead>\n",
       "    <tr style=\"text-align: right;\">\n",
       "      <th></th>\n",
       "      <th>BAD</th>\n",
       "      <th>LOAN</th>\n",
       "      <th>MORTDUE</th>\n",
       "      <th>VALUE</th>\n",
       "      <th>REASON</th>\n",
       "      <th>JOB</th>\n",
       "      <th>YOJ</th>\n",
       "      <th>DEROG</th>\n",
       "      <th>DELINQ</th>\n",
       "      <th>CLAGE</th>\n",
       "      <th>NINQ</th>\n",
       "      <th>CLNO</th>\n",
       "      <th>DEBTINC</th>\n",
       "    </tr>\n",
       "  </thead>\n",
       "  <tbody>\n",
       "    <tr>\n",
       "      <th>0</th>\n",
       "      <td>1</td>\n",
       "      <td>1100</td>\n",
       "      <td>25860.0</td>\n",
       "      <td>39025.0</td>\n",
       "      <td>HomeImp</td>\n",
       "      <td>Other</td>\n",
       "      <td>10.5</td>\n",
       "      <td>0.0</td>\n",
       "      <td>0.0</td>\n",
       "      <td>94.366667</td>\n",
       "      <td>1.0</td>\n",
       "      <td>9.0</td>\n",
       "      <td>NaN</td>\n",
       "    </tr>\n",
       "    <tr>\n",
       "      <th>1</th>\n",
       "      <td>1</td>\n",
       "      <td>1300</td>\n",
       "      <td>70053.0</td>\n",
       "      <td>68400.0</td>\n",
       "      <td>HomeImp</td>\n",
       "      <td>Other</td>\n",
       "      <td>7.0</td>\n",
       "      <td>0.0</td>\n",
       "      <td>2.0</td>\n",
       "      <td>121.833333</td>\n",
       "      <td>0.0</td>\n",
       "      <td>14.0</td>\n",
       "      <td>NaN</td>\n",
       "    </tr>\n",
       "    <tr>\n",
       "      <th>2</th>\n",
       "      <td>1</td>\n",
       "      <td>1500</td>\n",
       "      <td>13500.0</td>\n",
       "      <td>16700.0</td>\n",
       "      <td>HomeImp</td>\n",
       "      <td>Other</td>\n",
       "      <td>4.0</td>\n",
       "      <td>0.0</td>\n",
       "      <td>0.0</td>\n",
       "      <td>149.466667</td>\n",
       "      <td>1.0</td>\n",
       "      <td>10.0</td>\n",
       "      <td>NaN</td>\n",
       "    </tr>\n",
       "    <tr>\n",
       "      <th>3</th>\n",
       "      <td>1</td>\n",
       "      <td>1500</td>\n",
       "      <td>NaN</td>\n",
       "      <td>NaN</td>\n",
       "      <td>NaN</td>\n",
       "      <td>NaN</td>\n",
       "      <td>NaN</td>\n",
       "      <td>NaN</td>\n",
       "      <td>NaN</td>\n",
       "      <td>NaN</td>\n",
       "      <td>NaN</td>\n",
       "      <td>NaN</td>\n",
       "      <td>NaN</td>\n",
       "    </tr>\n",
       "    <tr>\n",
       "      <th>4</th>\n",
       "      <td>0</td>\n",
       "      <td>1700</td>\n",
       "      <td>97800.0</td>\n",
       "      <td>112000.0</td>\n",
       "      <td>HomeImp</td>\n",
       "      <td>Office</td>\n",
       "      <td>3.0</td>\n",
       "      <td>0.0</td>\n",
       "      <td>0.0</td>\n",
       "      <td>93.333333</td>\n",
       "      <td>0.0</td>\n",
       "      <td>14.0</td>\n",
       "      <td>NaN</td>\n",
       "    </tr>\n",
       "  </tbody>\n",
       "</table>\n",
       "</div>"
      ],
      "text/plain": [
       "   BAD  LOAN  MORTDUE     VALUE   REASON     JOB   YOJ  DEROG  DELINQ  \\\n",
       "0    1  1100  25860.0   39025.0  HomeImp   Other  10.5    0.0     0.0   \n",
       "1    1  1300  70053.0   68400.0  HomeImp   Other   7.0    0.0     2.0   \n",
       "2    1  1500  13500.0   16700.0  HomeImp   Other   4.0    0.0     0.0   \n",
       "3    1  1500      NaN       NaN      NaN     NaN   NaN    NaN     NaN   \n",
       "4    0  1700  97800.0  112000.0  HomeImp  Office   3.0    0.0     0.0   \n",
       "\n",
       "        CLAGE  NINQ  CLNO  DEBTINC  \n",
       "0   94.366667   1.0   9.0      NaN  \n",
       "1  121.833333   0.0  14.0      NaN  \n",
       "2  149.466667   1.0  10.0      NaN  \n",
       "3         NaN   NaN   NaN      NaN  \n",
       "4   93.333333   0.0  14.0      NaN  "
      ]
     },
     "execution_count": 62,
     "metadata": {},
     "output_type": "execute_result"
    }
   ],
   "source": [
    "# Devolvemos las primeras filas del DataFrame\n",
    "df.head()"
   ]
  },
  {
   "cell_type": "code",
   "execution_count": 63,
   "id": "8f867a52",
   "metadata": {},
   "outputs": [
    {
     "data": {
      "text/plain": [
       "(5960, 13)"
      ]
     },
     "execution_count": 63,
     "metadata": {},
     "output_type": "execute_result"
    }
   ],
   "source": [
    "# Dimension del dataset\n",
    "df.shape"
   ]
  },
  {
   "cell_type": "markdown",
   "id": "4bf033a2",
   "metadata": {},
   "source": [
    "## 2.2 Columnas"
   ]
  },
  {
   "cell_type": "code",
   "execution_count": 64,
   "id": "1d726ee0",
   "metadata": {},
   "outputs": [
    {
     "data": {
      "text/plain": [
       "Index(['BAD', 'LOAN', 'MORTDUE', 'VALUE', 'REASON', 'JOB', 'YOJ', 'DEROG',\n",
       "       'DELINQ', 'CLAGE', 'NINQ', 'CLNO', 'DEBTINC'],\n",
       "      dtype='object')"
      ]
     },
     "execution_count": 64,
     "metadata": {},
     "output_type": "execute_result"
    }
   ],
   "source": [
    "# Columnas de nuestros dataset\n",
    "df.columns"
   ]
  },
  {
   "cell_type": "code",
   "execution_count": 65,
   "id": "f5993767",
   "metadata": {},
   "outputs": [
    {
     "name": "stdout",
     "output_type": "stream",
     "text": [
      "<class 'pandas.core.frame.DataFrame'>\n",
      "RangeIndex: 5960 entries, 0 to 5959\n",
      "Data columns (total 13 columns):\n",
      " #   Column   Non-Null Count  Dtype  \n",
      "---  ------   --------------  -----  \n",
      " 0   BAD      5960 non-null   int64  \n",
      " 1   LOAN     5960 non-null   int64  \n",
      " 2   MORTDUE  5442 non-null   float64\n",
      " 3   VALUE    5848 non-null   float64\n",
      " 4   REASON   5708 non-null   object \n",
      " 5   JOB      5681 non-null   object \n",
      " 6   YOJ      5445 non-null   float64\n",
      " 7   DEROG    5252 non-null   float64\n",
      " 8   DELINQ   5380 non-null   float64\n",
      " 9   CLAGE    5652 non-null   float64\n",
      " 10  NINQ     5450 non-null   float64\n",
      " 11  CLNO     5738 non-null   float64\n",
      " 12  DEBTINC  4693 non-null   float64\n",
      "dtypes: float64(9), int64(2), object(2)\n",
      "memory usage: 605.4+ KB\n"
     ]
    }
   ],
   "source": [
    "# Tipo de cada columna\n",
    "df.info()"
   ]
  },
  {
   "cell_type": "markdown",
   "id": "b2781e6e",
   "metadata": {},
   "source": [
    "###### Observaciones\n",
    "* Tenemos columnas cuyo tipo de dato es “object”, estas columnas se pueden considerar como clasificadores, más adelante haremos una transformación de datos para poder aplicar el algoritmo de regresión logística el cual necesita que los tipos de datos sean numéricos. Una solución es distinguir cada tipo de object y crearles una tabla, para las tuplas en las que previo a la transformación de datos llevaba el nombre de la tabla en el atributo llevará un 1 y si no, un 0.\n",
    "* Podemos identificar que no tenemos tablas nulas.\n"
   ]
  },
  {
   "cell_type": "markdown",
   "id": "be71c25a",
   "metadata": {},
   "source": [
    "## 2.3 Datos ausentes"
   ]
  },
  {
   "cell_type": "code",
   "execution_count": 66,
   "id": "a9502ca4",
   "metadata": {},
   "outputs": [
    {
     "data": {
      "text/plain": [
       "BAD           0\n",
       "LOAN          0\n",
       "VALUE       112\n",
       "CLNO        222\n",
       "REASON      252\n",
       "JOB         279\n",
       "CLAGE       308\n",
       "NINQ        510\n",
       "YOJ         515\n",
       "MORTDUE     518\n",
       "DELINQ      580\n",
       "DEROG       708\n",
       "DEBTINC    1267\n",
       "dtype: int64"
      ]
     },
     "execution_count": 66,
     "metadata": {},
     "output_type": "execute_result"
    }
   ],
   "source": [
    "# Numeros de datos ausentes por variable\n",
    "df.isna().sum().sort_values()"
   ]
  },
  {
   "cell_type": "markdown",
   "id": "40e417c4",
   "metadata": {},
   "source": [
    "###### Observación\n",
    "* Exceptuando las variables BAD y LOAN el dataset contiene muchos datos ausentes"
   ]
  },
  {
   "cell_type": "markdown",
   "id": "e4cd4980",
   "metadata": {},
   "source": [
    "## 2.4 Análisis de variables individuales"
   ]
  },
  {
   "cell_type": "markdown",
   "id": "13c5d25d",
   "metadata": {},
   "source": [
    "### 2.4.1 Análisis de datos cuantitativos"
   ]
  },
  {
   "cell_type": "code",
   "execution_count": 67,
   "id": "c835f036",
   "metadata": {},
   "outputs": [
    {
     "data": {
      "text/html": [
       "<div>\n",
       "<style scoped>\n",
       "    .dataframe tbody tr th:only-of-type {\n",
       "        vertical-align: middle;\n",
       "    }\n",
       "\n",
       "    .dataframe tbody tr th {\n",
       "        vertical-align: top;\n",
       "    }\n",
       "\n",
       "    .dataframe thead th {\n",
       "        text-align: right;\n",
       "    }\n",
       "</style>\n",
       "<table border=\"1\" class=\"dataframe\">\n",
       "  <thead>\n",
       "    <tr style=\"text-align: right;\">\n",
       "      <th></th>\n",
       "      <th>BAD</th>\n",
       "      <th>LOAN</th>\n",
       "      <th>MORTDUE</th>\n",
       "      <th>VALUE</th>\n",
       "      <th>YOJ</th>\n",
       "      <th>DEROG</th>\n",
       "      <th>DELINQ</th>\n",
       "      <th>CLAGE</th>\n",
       "      <th>NINQ</th>\n",
       "      <th>CLNO</th>\n",
       "      <th>DEBTINC</th>\n",
       "    </tr>\n",
       "  </thead>\n",
       "  <tbody>\n",
       "    <tr>\n",
       "      <th>count</th>\n",
       "      <td>5960.000000</td>\n",
       "      <td>5960.000000</td>\n",
       "      <td>5442.000000</td>\n",
       "      <td>5848.000000</td>\n",
       "      <td>5445.000000</td>\n",
       "      <td>5252.000000</td>\n",
       "      <td>5380.000000</td>\n",
       "      <td>5652.000000</td>\n",
       "      <td>5450.000000</td>\n",
       "      <td>5738.000000</td>\n",
       "      <td>4693.000000</td>\n",
       "    </tr>\n",
       "    <tr>\n",
       "      <th>mean</th>\n",
       "      <td>0.199497</td>\n",
       "      <td>18607.969799</td>\n",
       "      <td>73760.817200</td>\n",
       "      <td>101776.048741</td>\n",
       "      <td>8.922268</td>\n",
       "      <td>0.254570</td>\n",
       "      <td>0.449442</td>\n",
       "      <td>179.766275</td>\n",
       "      <td>1.186055</td>\n",
       "      <td>21.296096</td>\n",
       "      <td>33.779915</td>\n",
       "    </tr>\n",
       "    <tr>\n",
       "      <th>std</th>\n",
       "      <td>0.399656</td>\n",
       "      <td>11207.480417</td>\n",
       "      <td>44457.609458</td>\n",
       "      <td>57385.775334</td>\n",
       "      <td>7.573982</td>\n",
       "      <td>0.846047</td>\n",
       "      <td>1.127266</td>\n",
       "      <td>85.810092</td>\n",
       "      <td>1.728675</td>\n",
       "      <td>10.138933</td>\n",
       "      <td>8.601746</td>\n",
       "    </tr>\n",
       "    <tr>\n",
       "      <th>min</th>\n",
       "      <td>0.000000</td>\n",
       "      <td>1100.000000</td>\n",
       "      <td>2063.000000</td>\n",
       "      <td>8000.000000</td>\n",
       "      <td>0.000000</td>\n",
       "      <td>0.000000</td>\n",
       "      <td>0.000000</td>\n",
       "      <td>0.000000</td>\n",
       "      <td>0.000000</td>\n",
       "      <td>0.000000</td>\n",
       "      <td>0.524499</td>\n",
       "    </tr>\n",
       "    <tr>\n",
       "      <th>25%</th>\n",
       "      <td>0.000000</td>\n",
       "      <td>11100.000000</td>\n",
       "      <td>46276.000000</td>\n",
       "      <td>66075.500000</td>\n",
       "      <td>3.000000</td>\n",
       "      <td>0.000000</td>\n",
       "      <td>0.000000</td>\n",
       "      <td>115.116702</td>\n",
       "      <td>0.000000</td>\n",
       "      <td>15.000000</td>\n",
       "      <td>29.140031</td>\n",
       "    </tr>\n",
       "    <tr>\n",
       "      <th>50%</th>\n",
       "      <td>0.000000</td>\n",
       "      <td>16300.000000</td>\n",
       "      <td>65019.000000</td>\n",
       "      <td>89235.500000</td>\n",
       "      <td>7.000000</td>\n",
       "      <td>0.000000</td>\n",
       "      <td>0.000000</td>\n",
       "      <td>173.466667</td>\n",
       "      <td>1.000000</td>\n",
       "      <td>20.000000</td>\n",
       "      <td>34.818262</td>\n",
       "    </tr>\n",
       "    <tr>\n",
       "      <th>75%</th>\n",
       "      <td>0.000000</td>\n",
       "      <td>23300.000000</td>\n",
       "      <td>91488.000000</td>\n",
       "      <td>119824.250000</td>\n",
       "      <td>13.000000</td>\n",
       "      <td>0.000000</td>\n",
       "      <td>0.000000</td>\n",
       "      <td>231.562278</td>\n",
       "      <td>2.000000</td>\n",
       "      <td>26.000000</td>\n",
       "      <td>39.003141</td>\n",
       "    </tr>\n",
       "    <tr>\n",
       "      <th>max</th>\n",
       "      <td>1.000000</td>\n",
       "      <td>89900.000000</td>\n",
       "      <td>399550.000000</td>\n",
       "      <td>855909.000000</td>\n",
       "      <td>41.000000</td>\n",
       "      <td>10.000000</td>\n",
       "      <td>15.000000</td>\n",
       "      <td>1168.233561</td>\n",
       "      <td>17.000000</td>\n",
       "      <td>71.000000</td>\n",
       "      <td>203.312149</td>\n",
       "    </tr>\n",
       "  </tbody>\n",
       "</table>\n",
       "</div>"
      ],
      "text/plain": [
       "               BAD          LOAN        MORTDUE          VALUE          YOJ  \\\n",
       "count  5960.000000   5960.000000    5442.000000    5848.000000  5445.000000   \n",
       "mean      0.199497  18607.969799   73760.817200  101776.048741     8.922268   \n",
       "std       0.399656  11207.480417   44457.609458   57385.775334     7.573982   \n",
       "min       0.000000   1100.000000    2063.000000    8000.000000     0.000000   \n",
       "25%       0.000000  11100.000000   46276.000000   66075.500000     3.000000   \n",
       "50%       0.000000  16300.000000   65019.000000   89235.500000     7.000000   \n",
       "75%       0.000000  23300.000000   91488.000000  119824.250000    13.000000   \n",
       "max       1.000000  89900.000000  399550.000000  855909.000000    41.000000   \n",
       "\n",
       "             DEROG       DELINQ        CLAGE         NINQ         CLNO  \\\n",
       "count  5252.000000  5380.000000  5652.000000  5450.000000  5738.000000   \n",
       "mean      0.254570     0.449442   179.766275     1.186055    21.296096   \n",
       "std       0.846047     1.127266    85.810092     1.728675    10.138933   \n",
       "min       0.000000     0.000000     0.000000     0.000000     0.000000   \n",
       "25%       0.000000     0.000000   115.116702     0.000000    15.000000   \n",
       "50%       0.000000     0.000000   173.466667     1.000000    20.000000   \n",
       "75%       0.000000     0.000000   231.562278     2.000000    26.000000   \n",
       "max      10.000000    15.000000  1168.233561    17.000000    71.000000   \n",
       "\n",
       "           DEBTINC  \n",
       "count  4693.000000  \n",
       "mean     33.779915  \n",
       "std       8.601746  \n",
       "min       0.524499  \n",
       "25%      29.140031  \n",
       "50%      34.818262  \n",
       "75%      39.003141  \n",
       "max     203.312149  "
      ]
     },
     "execution_count": 67,
     "metadata": {},
     "output_type": "execute_result"
    }
   ],
   "source": [
    "# Distribucion de variables numericas\n",
    "df.describe()"
   ]
  },
  {
   "cell_type": "markdown",
   "id": "86163dde",
   "metadata": {},
   "source": [
    "##### Histogramas de las variables numéricas"
   ]
  },
  {
   "cell_type": "code",
   "execution_count": 68,
   "id": "6d31ebae",
   "metadata": {},
   "outputs": [
    {
     "data": {
      "image/png": "[encoded data removed]",
      "text/plain": [
       "<Figure size 1500x1500 with 12 Axes>"
      ]
     },
     "metadata": {},
     "output_type": "display_data"
    }
   ],
   "source": [
    "# histograma de las variables numericas\n",
    "\n",
    "# No tomamos en cuenta las variables categoricas\n",
    "df.drop(['REASON', 'JOB'],axis=1).hist(bins=30, figsize=(15,15))\n",
    "pl.suptitle(\"Histogramas para las variables númericas\")\n",
    "plt.show()"
   ]
  },
  {
   "cell_type": "markdown",
   "id": "221f7aa7",
   "metadata": {},
   "source": [
    "##### Porcentaje de variable Target"
   ]
  },
  {
   "cell_type": "code",
   "execution_count": 69,
   "id": "4e0de525",
   "metadata": {},
   "outputs": [],
   "source": [
    "# Funcion para crear graficos de barra que muestre un porcentaje\n",
    "\n",
    "def perc_on_bar(plot, feature):\n",
    "    # longitud de la columna\n",
    "    total = len(feature) \n",
    "    for p in ax.patches:\n",
    "        percentage = '{:.1f}%'.format(100 * p.get_height()/total) # porcentaje de cada clase\n",
    "        x = p.get_x() + p.get_width() / 2 - 0.05 \n",
    "        y = p.get_y() + p.get_height()       \n",
    "        # anotamos el porcentaje\n",
    "        ax.annotate(percentage, (x, y), size = 12)\n",
    "        \n",
    "    plt.show() # show the plot"
   ]
  },
  {
   "cell_type": "code",
   "execution_count": 70,
   "id": "3c2c8014",
   "metadata": {},
   "outputs": [
    {
     "data": {
      "image/png": "[encoded data removed]",
      "text/plain": [
       "<Figure size 500x300 with 1 Axes>"
      ]
     },
     "metadata": {},
     "output_type": "display_data"
    }
   ],
   "source": [
    "# Mostramos el grafico de barras de BAD con sus porcentajes \n",
    "plt.figure(figsize=(5,3))\n",
    "ax = sns.countplot(df[\"BAD\"],palette=\"tab10\")\n",
    "perc_on_bar(ax,df[\"BAD\"])"
   ]
  },
  {
   "cell_type": "markdown",
   "id": "fbd3d458",
   "metadata": {},
   "source": [
    "###### Observaciones\n",
    "* BAD - La distribución de la variable objetivo está desequilibrada, los 0 son alrededor del 80% y los 1 son alrededor del 20%. Antes de implementar un modelo predictivo debemos de balancear esto.\n",
    "* Las variables cuantitativas muestran, en todos los casos, distribución asimétrica a la izquierda.\n",
    "* LOAN - Los montos de los préstamos se concentran hasta 20.000,00, con algunos valores extremos por encima de 80.000,00\n",
    "* DEBTINC - que es la relación entre la deuda y los ingresos, es decir la capacidad de pago, tiene una mayor concentración entre 30 y 40.\n",
    "* MORTDUE variable - que verifica el monto adeudado de la hipoteca, muestra que la mayoría de los clientes tienen deudas que oscilan entre 40,000 y 80,000\n",
    "* YOJ - son los años trabajados en el puesto actual. La mayoría trabaja hasta 5 años en la empresa, algunos clientes trabajan más de 40 años (pero este no es el estándar)\n",
    "* VALUE - Que verifica los valores de los inmueble. Muestra que la mayoría de los inmuebles están tasados entre 50.000 y 100.000, con casos de inmuebles por encima de los 400.000\n",
    "* CLAGE - verifica la antigüedad en meses de la mayor línea de crédito, la concentración es entre 100 y 300 meses (entre 8 y 25 años) en que se adquirió la primera línea de crédito.\n",
    "* CLNO - comprueba cuántas líneas de crédito tiene el cliente. La mayoría tiene entre 10 y 25 líneas de crédito.\n",
    "* DEROG - cantidad de informes cancelados, la concentración está entre 1 y 2.\n",
    "* DELINQ - Número de líneas de crédito morosas, se concentran entre 0 y 2,5.\n",
    "* Podemos limitar los valores que son muy altos a un valor más bajo seleccionado, pero esto podría ocacionar perdida de información, cambios en la distribución de los datos y ocasionar sesgos en los resultados, por ende no lo haremos."
   ]
  },
  {
   "cell_type": "markdown",
   "id": "669ba4a9",
   "metadata": {},
   "source": [
    "### 2.4.2 Análisis de datos cualitativos"
   ]
  },
  {
   "cell_type": "markdown",
   "id": "6b23cf0d",
   "metadata": {},
   "source": [
    "#### Comportamiento general de las variables categóricas"
   ]
  },
  {
   "cell_type": "code",
   "execution_count": 71,
   "id": "f2724617",
   "metadata": {},
   "outputs": [
    {
     "data": {
      "text/html": [
       "<div>\n",
       "<style scoped>\n",
       "    .dataframe tbody tr th:only-of-type {\n",
       "        vertical-align: middle;\n",
       "    }\n",
       "\n",
       "    .dataframe tbody tr th {\n",
       "        vertical-align: top;\n",
       "    }\n",
       "\n",
       "    .dataframe thead th {\n",
       "        text-align: right;\n",
       "    }\n",
       "</style>\n",
       "<table border=\"1\" class=\"dataframe\">\n",
       "  <thead>\n",
       "    <tr style=\"text-align: right;\">\n",
       "      <th></th>\n",
       "      <th>REASON</th>\n",
       "      <th>JOB</th>\n",
       "    </tr>\n",
       "  </thead>\n",
       "  <tbody>\n",
       "    <tr>\n",
       "      <th>count</th>\n",
       "      <td>5708</td>\n",
       "      <td>5681</td>\n",
       "    </tr>\n",
       "    <tr>\n",
       "      <th>unique</th>\n",
       "      <td>2</td>\n",
       "      <td>6</td>\n",
       "    </tr>\n",
       "    <tr>\n",
       "      <th>top</th>\n",
       "      <td>DebtCon</td>\n",
       "      <td>Other</td>\n",
       "    </tr>\n",
       "    <tr>\n",
       "      <th>freq</th>\n",
       "      <td>3928</td>\n",
       "      <td>2388</td>\n",
       "    </tr>\n",
       "  </tbody>\n",
       "</table>\n",
       "</div>"
      ],
      "text/plain": [
       "         REASON    JOB\n",
       "count      5708   5681\n",
       "unique        2      6\n",
       "top     DebtCon  Other\n",
       "freq       3928   2388"
      ]
     },
     "execution_count": 71,
     "metadata": {},
     "output_type": "execute_result"
    }
   ],
   "source": [
    "# Comportamiento de las variables categoricas\n",
    "df.describe(include=\"O\")"
   ]
  },
  {
   "cell_type": "code",
   "execution_count": 72,
   "id": "16f92884",
   "metadata": {},
   "outputs": [
    {
     "data": {
      "text/plain": [
       "Index(['REASON', 'JOB'], dtype='object')"
      ]
     },
     "execution_count": 72,
     "metadata": {},
     "output_type": "execute_result"
    }
   ],
   "source": [
    "# Seleccionamos solo las columnas de variables categoricas\n",
    "df.select_dtypes(include= [\"O\"]).columns"
   ]
  },
  {
   "cell_type": "markdown",
   "id": "9f8102df",
   "metadata": {},
   "source": [
    "#### Variable REASON"
   ]
  },
  {
   "cell_type": "code",
   "execution_count": 73,
   "id": "739a13c8",
   "metadata": {},
   "outputs": [
    {
     "data": {
      "text/plain": [
       "REASON\n",
       "HomeImp    1780\n",
       "DebtCon    3928\n",
       "dtype: int64"
      ]
     },
     "execution_count": 73,
     "metadata": {},
     "output_type": "execute_result"
    }
   ],
   "source": [
    "# Se divide la columna REASON por grupo de valores\n",
    "df.groupby(\"REASON\").size().sort_values()"
   ]
  },
  {
   "cell_type": "code",
   "execution_count": 74,
   "id": "1edd5001",
   "metadata": {},
   "outputs": [
    {
     "ename": "ValueError",
     "evalue": "could not convert string to float: 'HomeImp'",
     "output_type": "error",
     "traceback": [
      "\u001b[1;31m---------------------------------------------------------------------------\u001b[0m",
      "\u001b[1;31mValueError\u001b[0m                                Traceback (most recent call last)",
      "Cell \u001b[1;32mIn[74], line 2\u001b[0m\n\u001b[0;32m      1\u001b[0m \u001b[38;5;66;03m# Visualizamos\u001b[39;00m\n\u001b[1;32m----> 2\u001b[0m ax \u001b[38;5;241m=\u001b[39m \u001b[43msns\u001b[49m\u001b[38;5;241;43m.\u001b[39;49m\u001b[43mcountplot\u001b[49m\u001b[43m(\u001b[49m\u001b[43mdf\u001b[49m\u001b[43m[\u001b[49m\u001b[38;5;124;43m\"\u001b[39;49m\u001b[38;5;124;43mREASON\u001b[39;49m\u001b[38;5;124;43m\"\u001b[39;49m\u001b[43m]\u001b[49m\u001b[43m,\u001b[49m\u001b[43mpalette\u001b[49m\u001b[38;5;241;43m=\u001b[39;49m\u001b[38;5;124;43m\"\u001b[39;49m\u001b[38;5;124;43mtab10\u001b[39;49m\u001b[38;5;124;43m\"\u001b[39;49m\u001b[43m)\u001b[49m\n\u001b[0;32m      3\u001b[0m perc_on_bar(ax,df[\u001b[38;5;124m\"\u001b[39m\u001b[38;5;124mREASON\u001b[39m\u001b[38;5;124m\"\u001b[39m])\n",
      "File \u001b[1;32m~\\anaconda3\\lib\\site-packages\\seaborn\\categorical.py:2943\u001b[0m, in \u001b[0;36mcountplot\u001b[1;34m(data, x, y, hue, order, hue_order, orient, color, palette, saturation, width, dodge, ax, **kwargs)\u001b[0m\n\u001b[0;32m   2940\u001b[0m \u001b[38;5;28;01melif\u001b[39;00m x \u001b[38;5;129;01mis\u001b[39;00m \u001b[38;5;129;01mnot\u001b[39;00m \u001b[38;5;28;01mNone\u001b[39;00m \u001b[38;5;129;01mand\u001b[39;00m y \u001b[38;5;129;01mis\u001b[39;00m \u001b[38;5;129;01mnot\u001b[39;00m \u001b[38;5;28;01mNone\u001b[39;00m:\n\u001b[0;32m   2941\u001b[0m     \u001b[38;5;28;01mraise\u001b[39;00m \u001b[38;5;167;01mValueError\u001b[39;00m(\u001b[38;5;124m\"\u001b[39m\u001b[38;5;124mCannot pass values for both `x` and `y`\u001b[39m\u001b[38;5;124m\"\u001b[39m)\n\u001b[1;32m-> 2943\u001b[0m plotter \u001b[38;5;241m=\u001b[39m \u001b[43m_CountPlotter\u001b[49m\u001b[43m(\u001b[49m\n\u001b[0;32m   2944\u001b[0m \u001b[43m    \u001b[49m\u001b[43mx\u001b[49m\u001b[43m,\u001b[49m\u001b[43m \u001b[49m\u001b[43my\u001b[49m\u001b[43m,\u001b[49m\u001b[43m \u001b[49m\u001b[43mhue\u001b[49m\u001b[43m,\u001b[49m\u001b[43m \u001b[49m\u001b[43mdata\u001b[49m\u001b[43m,\u001b[49m\u001b[43m \u001b[49m\u001b[43morder\u001b[49m\u001b[43m,\u001b[49m\u001b[43m \u001b[49m\u001b[43mhue_order\u001b[49m\u001b[43m,\u001b[49m\n\u001b[0;32m   2945\u001b[0m \u001b[43m    \u001b[49m\u001b[43mestimator\u001b[49m\u001b[43m,\u001b[49m\u001b[43m \u001b[49m\u001b[43merrorbar\u001b[49m\u001b[43m,\u001b[49m\u001b[43m \u001b[49m\u001b[43mn_boot\u001b[49m\u001b[43m,\u001b[49m\u001b[43m \u001b[49m\u001b[43munits\u001b[49m\u001b[43m,\u001b[49m\u001b[43m \u001b[49m\u001b[43mseed\u001b[49m\u001b[43m,\u001b[49m\n\u001b[0;32m   2946\u001b[0m \u001b[43m    \u001b[49m\u001b[43morient\u001b[49m\u001b[43m,\u001b[49m\u001b[43m \u001b[49m\u001b[43mcolor\u001b[49m\u001b[43m,\u001b[49m\u001b[43m \u001b[49m\u001b[43mpalette\u001b[49m\u001b[43m,\u001b[49m\u001b[43m \u001b[49m\u001b[43msaturation\u001b[49m\u001b[43m,\u001b[49m\n\u001b[0;32m   2947\u001b[0m \u001b[43m    \u001b[49m\u001b[43mwidth\u001b[49m\u001b[43m,\u001b[49m\u001b[43m \u001b[49m\u001b[43merrcolor\u001b[49m\u001b[43m,\u001b[49m\u001b[43m \u001b[49m\u001b[43merrwidth\u001b[49m\u001b[43m,\u001b[49m\u001b[43m \u001b[49m\u001b[43mcapsize\u001b[49m\u001b[43m,\u001b[49m\u001b[43m \u001b[49m\u001b[43mdodge\u001b[49m\n\u001b[0;32m   2948\u001b[0m \u001b[43m\u001b[49m\u001b[43m)\u001b[49m\n\u001b[0;32m   2950\u001b[0m plotter\u001b[38;5;241m.\u001b[39mvalue_label \u001b[38;5;241m=\u001b[39m \u001b[38;5;124m\"\u001b[39m\u001b[38;5;124mcount\u001b[39m\u001b[38;5;124m\"\u001b[39m\n\u001b[0;32m   2952\u001b[0m \u001b[38;5;28;01mif\u001b[39;00m ax \u001b[38;5;129;01mis\u001b[39;00m \u001b[38;5;28;01mNone\u001b[39;00m:\n",
      "File \u001b[1;32m~\\anaconda3\\lib\\site-packages\\seaborn\\categorical.py:1530\u001b[0m, in \u001b[0;36m_BarPlotter.__init__\u001b[1;34m(self, x, y, hue, data, order, hue_order, estimator, errorbar, n_boot, units, seed, orient, color, palette, saturation, width, errcolor, errwidth, capsize, dodge)\u001b[0m\n\u001b[0;32m   1525\u001b[0m \u001b[38;5;28;01mdef\u001b[39;00m \u001b[38;5;21m__init__\u001b[39m(\u001b[38;5;28mself\u001b[39m, x, y, hue, data, order, hue_order,\n\u001b[0;32m   1526\u001b[0m              estimator, errorbar, n_boot, units, seed,\n\u001b[0;32m   1527\u001b[0m              orient, color, palette, saturation, width,\n\u001b[0;32m   1528\u001b[0m              errcolor, errwidth, capsize, dodge):\n\u001b[0;32m   1529\u001b[0m     \u001b[38;5;124;03m\"\"\"Initialize the plotter.\"\"\"\u001b[39;00m\n\u001b[1;32m-> 1530\u001b[0m     \u001b[38;5;28;43mself\u001b[39;49m\u001b[38;5;241;43m.\u001b[39;49m\u001b[43mestablish_variables\u001b[49m\u001b[43m(\u001b[49m\u001b[43mx\u001b[49m\u001b[43m,\u001b[49m\u001b[43m \u001b[49m\u001b[43my\u001b[49m\u001b[43m,\u001b[49m\u001b[43m \u001b[49m\u001b[43mhue\u001b[49m\u001b[43m,\u001b[49m\u001b[43m \u001b[49m\u001b[43mdata\u001b[49m\u001b[43m,\u001b[49m\u001b[43m \u001b[49m\u001b[43morient\u001b[49m\u001b[43m,\u001b[49m\n\u001b[0;32m   1531\u001b[0m \u001b[43m                             \u001b[49m\u001b[43morder\u001b[49m\u001b[43m,\u001b[49m\u001b[43m \u001b[49m\u001b[43mhue_order\u001b[49m\u001b[43m,\u001b[49m\u001b[43m \u001b[49m\u001b[43munits\u001b[49m\u001b[43m)\u001b[49m\n\u001b[0;32m   1532\u001b[0m     \u001b[38;5;28mself\u001b[39m\u001b[38;5;241m.\u001b[39mestablish_colors(color, palette, saturation)\n\u001b[0;32m   1533\u001b[0m     \u001b[38;5;28mself\u001b[39m\u001b[38;5;241m.\u001b[39mestimate_statistic(estimator, errorbar, n_boot, seed)\n",
      "File \u001b[1;32m~\\anaconda3\\lib\\site-packages\\seaborn\\categorical.py:516\u001b[0m, in \u001b[0;36m_CategoricalPlotter.establish_variables\u001b[1;34m(self, x, y, hue, data, orient, order, hue_order, units)\u001b[0m\n\u001b[0;32m    513\u001b[0m     plot_data \u001b[38;5;241m=\u001b[39m data\n\u001b[0;32m    515\u001b[0m \u001b[38;5;66;03m# Convert to a list of arrays, the common representation\u001b[39;00m\n\u001b[1;32m--> 516\u001b[0m plot_data \u001b[38;5;241m=\u001b[39m [np\u001b[38;5;241m.\u001b[39masarray(d, \u001b[38;5;28mfloat\u001b[39m) \u001b[38;5;28;01mfor\u001b[39;00m d \u001b[38;5;129;01min\u001b[39;00m plot_data]\n\u001b[0;32m    518\u001b[0m \u001b[38;5;66;03m# The group names will just be numeric indices\u001b[39;00m\n\u001b[0;32m    519\u001b[0m group_names \u001b[38;5;241m=\u001b[39m \u001b[38;5;28mlist\u001b[39m(\u001b[38;5;28mrange\u001b[39m(\u001b[38;5;28mlen\u001b[39m(plot_data)))\n",
      "File \u001b[1;32m~\\anaconda3\\lib\\site-packages\\seaborn\\categorical.py:516\u001b[0m, in \u001b[0;36m<listcomp>\u001b[1;34m(.0)\u001b[0m\n\u001b[0;32m    513\u001b[0m     plot_data \u001b[38;5;241m=\u001b[39m data\n\u001b[0;32m    515\u001b[0m \u001b[38;5;66;03m# Convert to a list of arrays, the common representation\u001b[39;00m\n\u001b[1;32m--> 516\u001b[0m plot_data \u001b[38;5;241m=\u001b[39m [\u001b[43mnp\u001b[49m\u001b[38;5;241;43m.\u001b[39;49m\u001b[43masarray\u001b[49m\u001b[43m(\u001b[49m\u001b[43md\u001b[49m\u001b[43m,\u001b[49m\u001b[43m \u001b[49m\u001b[38;5;28;43mfloat\u001b[39;49m\u001b[43m)\u001b[49m \u001b[38;5;28;01mfor\u001b[39;00m d \u001b[38;5;129;01min\u001b[39;00m plot_data]\n\u001b[0;32m    518\u001b[0m \u001b[38;5;66;03m# The group names will just be numeric indices\u001b[39;00m\n\u001b[0;32m    519\u001b[0m group_names \u001b[38;5;241m=\u001b[39m \u001b[38;5;28mlist\u001b[39m(\u001b[38;5;28mrange\u001b[39m(\u001b[38;5;28mlen\u001b[39m(plot_data)))\n",
      "File \u001b[1;32m~\\anaconda3\\lib\\site-packages\\pandas\\core\\series.py:893\u001b[0m, in \u001b[0;36mSeries.__array__\u001b[1;34m(self, dtype)\u001b[0m\n\u001b[0;32m    846\u001b[0m \u001b[38;5;28;01mdef\u001b[39;00m \u001b[38;5;21m__array__\u001b[39m(\u001b[38;5;28mself\u001b[39m, dtype: npt\u001b[38;5;241m.\u001b[39mDTypeLike \u001b[38;5;241m|\u001b[39m \u001b[38;5;28;01mNone\u001b[39;00m \u001b[38;5;241m=\u001b[39m \u001b[38;5;28;01mNone\u001b[39;00m) \u001b[38;5;241m-\u001b[39m\u001b[38;5;241m>\u001b[39m np\u001b[38;5;241m.\u001b[39mndarray:\n\u001b[0;32m    847\u001b[0m     \u001b[38;5;124;03m\"\"\"\u001b[39;00m\n\u001b[0;32m    848\u001b[0m \u001b[38;5;124;03m    Return the values as a NumPy array.\u001b[39;00m\n\u001b[0;32m    849\u001b[0m \n\u001b[1;32m   (...)\u001b[0m\n\u001b[0;32m    891\u001b[0m \u001b[38;5;124;03m          dtype='datetime64[ns]')\u001b[39;00m\n\u001b[0;32m    892\u001b[0m \u001b[38;5;124;03m    \"\"\"\u001b[39;00m\n\u001b[1;32m--> 893\u001b[0m     \u001b[38;5;28;01mreturn\u001b[39;00m \u001b[43mnp\u001b[49m\u001b[38;5;241;43m.\u001b[39;49m\u001b[43masarray\u001b[49m\u001b[43m(\u001b[49m\u001b[38;5;28;43mself\u001b[39;49m\u001b[38;5;241;43m.\u001b[39;49m\u001b[43m_values\u001b[49m\u001b[43m,\u001b[49m\u001b[43m \u001b[49m\u001b[43mdtype\u001b[49m\u001b[43m)\u001b[49m\n",
      "\u001b[1;31mValueError\u001b[0m: could not convert string to float: 'HomeImp'"
     ]
    }
   ],
   "source": [
    "# Visualizamos\n",
    "ax = sns.countplot(df[\"REASON\"],palette=\"tab10\")\n",
    "perc_on_bar(ax,df[\"REASON\"])"
   ]
  },
  {
   "cell_type": "markdown",
   "id": "0b1c3c1f",
   "metadata": {},
   "source": [
    "#### Variable JOB"
   ]
  },
  {
   "cell_type": "code",
   "execution_count": null,
   "id": "52ba21ac",
   "metadata": {},
   "outputs": [],
   "source": [
    "# Se divide la columna JOB por grupo de valores\n",
    "df.groupby(\"JOB\").size().sort_values()"
   ]
  },
  {
   "cell_type": "code",
   "execution_count": null,
   "id": "92d22fa0",
   "metadata": {},
   "outputs": [],
   "source": [
    "# Visualizamos\n",
    "plt.figure(figsize=(5,3))\n",
    "ax = sns.countplot(df[\"JOB\"],palette=\"tab10\")\n",
    "perc_on_bar(ax,df[\"JOB\"])"
   ]
  },
  {
   "cell_type": "markdown",
   "id": "ff61d9ce",
   "metadata": {},
   "source": [
    "###### Observaciones\n",
    "* REASON: 2 (HomeImp, DebtCon) tenemos que la mayoría de las personas piden prestamos para pagar otros (65.9%).\n",
    "* JOB: 6 (Other, Office, Sales, Mgr, ProfExe, Self) vemos que la mayoría de las personas que piden prestamos trabajan en Mgr(12.9%), oficina(15.9%), ProfExe(21.4%) y en otros (40.1%)."
   ]
  },
  {
   "cell_type": "markdown",
   "id": "257c4856",
   "metadata": {},
   "source": [
    "## 2.5 Análisis de dependencias"
   ]
  },
  {
   "cell_type": "markdown",
   "id": "5d2dfdfa",
   "metadata": {},
   "source": [
    "### Obs 1 - Mapa de correlación\n",
    "Mediante un mapa de correlación vemos una primera vista del tipo de relación que existe en las variables del conjunto de datos. Para ello ignoraremos las variables categóricas y la variable target (objetivo).\n",
    "\n",
    "El mapa de correlación es útil porque permite identificar rápidamente las variables que están altamente correlacionadas y aquellas que tienen una baja correlación. Esto puede ayudar a los analistas a reducir la dimensionalidad de los datos, identificar patrones y relaciones entre las variables, y seleccionar las variables más importantes para la modelización y la predicción.\n",
    "\n",
    "Lo interpretamos de la siguiente forma:\n",
    " * Los tonos más calidos indican una alta correlación entre las variables\n",
    " * Los tonos más frios indican una baja correlación\n",
    " * Una correlación positiva entre dos variables se indica con un valor cercano a 1, lo que significa que ambas variables se mueven en la misma dirección. Por ejemplo, si una variable aumenta, la otra variable también tiende a aumentar.\n",
    " * Una correlación negativa se indica con un valor cercano a -1, lo que significa que las dos variables se mueven en direcciones opuestas. Por ejemplo, si una variable aumenta, la otra variable tiende a disminuir.\n",
    "\n"
   ]
  },
  {
   "cell_type": "code",
   "execution_count": null,
   "id": "08af6b73",
   "metadata": {},
   "outputs": [],
   "source": [
    "# Eliminar columnas 'BAD', 'JOB' y 'REASON' del dataframe\n",
    "df_corr = df.drop(['BAD', 'JOB', 'REASON'], axis=1)\n"
   ]
  },
  {
   "cell_type": "code",
   "execution_count": null,
   "id": "06ab3d8a",
   "metadata": {},
   "outputs": [],
   "source": [
    "# Calcular la correlación de Pearson\n",
    "correlacion = df_corr.corr(method='pearson')"
   ]
  },
  {
   "cell_type": "code",
   "execution_count": null,
   "id": "5b80450a",
   "metadata": {},
   "outputs": [],
   "source": [
    "# Mostrar el mapa de calor\n",
    "plt.figure(figsize=(15,15))\n",
    "sns.heatmap(correlacion, vmax=1, square=True, annot=True, cmap='viridis')\n",
    "plt.title(\"Matriz de correlacion\", fontsize=18)\n",
    "plt.show()"
   ]
  },
  {
   "cell_type": "markdown",
   "id": "29e5e76a",
   "metadata": {},
   "source": [
    "###### Observaciones\n",
    "* La variable \"VALUE\" tiene una fuerte correlación con \"MORTDUE\", lo que indica que si el valor de una casa es alto, es probable que la cantidad adeudada de la hipoteca existente también lo sea. \n",
    "* Se encontró que la correlación entre \"VALUE\" y \"LOAN\" es baja, lo que sugiere que los propietarios de viviendas de alto valor no necesitan solicitar grandes préstamos con garantía hipotecaria. En lugar de ello, las personas que sufren de problemas financieros suelen ser las que solicitan estos préstamos. Estos hallazgos son importantes para entender la relación entre estas variables en el análisis de credit scoring."
   ]
  },
  {
   "cell_type": "markdown",
   "id": "69f2f3a0",
   "metadata": {},
   "source": [
    "### Obs 2 - Relación REASON, YOJ Y LOAN"
   ]
  },
  {
   "cell_type": "code",
   "execution_count": null,
   "id": "2fca8adc",
   "metadata": {},
   "outputs": [],
   "source": [
    "#  Mostramos las 10 solicitudes de prestamos más importantes\n",
    "df.nlargest(10, 'LOAN')[['REASON', 'YOJ', 'LOAN']].style.hide_index()"
   ]
  },
  {
   "cell_type": "markdown",
   "id": "fe2b36f3",
   "metadata": {},
   "source": [
    "###### Observación\n",
    "Podemos ver que los 10 prestamos más grandes, es decir con el monto más elevado fueron en personas que mantienen su trabajo desde hace 14,15 y 16 años, y con el motivo de solicitar la consolidación de deuda."
   ]
  },
  {
   "cell_type": "markdown",
   "id": "ee941e23",
   "metadata": {},
   "source": [
    "### Obs 3 - Relación MORTDUE, YOJ"
   ]
  },
  {
   "cell_type": "code",
   "execution_count": null,
   "id": "486c15a4",
   "metadata": {},
   "outputs": [],
   "source": [
    "# Mostramos las 10 personas con más tiempo en la empresa\n",
    "df.nlargest(10, 'YOJ')[['MORTDUE', 'YOJ']].style.hide_index()"
   ]
  },
  {
   "cell_type": "markdown",
   "id": "1c0be66e",
   "metadata": {},
   "source": [
    "###### Observaciones\n",
    "* Observamos las 10 personas que llevan más tiempo en su trabajo para saber cuales son las que están en mejor condición para seguir pagando el prestamo. \n",
    "* Notamos que las personas con el trabajo más estable rondan entre 35 a 41 años en su trabajo y tienen un monto elevado adeudado de la hipoteca existente."
   ]
  },
  {
   "cell_type": "markdown",
   "id": "d29b1d7e",
   "metadata": {},
   "source": [
    "## 2.6 Análisis de variable objetivo BAD\n",
    "Estudiaremos un poco sobre la variable BAD ya que nos interesa entender cómo se comporta con respecto a las otras variables"
   ]
  },
  {
   "cell_type": "markdown",
   "id": "45d18f3e",
   "metadata": {},
   "source": [
    "### OBS 1 -  Análisis del comportamiento de BAD - Variables categóricas"
   ]
  },
  {
   "cell_type": "code",
   "execution_count": null,
   "id": "799aff1e",
   "metadata": {},
   "outputs": [],
   "source": [
    "# Separamos buen pagador de mal pagador\n",
    "df.loc[df.BAD == 1, 'ESTADO'] = 'MAL_PAG'\n",
    "df.loc[df.BAD == 0, 'ESTADO'] = 'BUEN_PAG'"
   ]
  },
  {
   "cell_type": "code",
   "execution_count": null,
   "id": "c01386d8",
   "metadata": {},
   "outputs": [],
   "source": [
    "# BAD vs JOB\n",
    "g = df.groupby('JOB')\n",
    "g['ESTADO'].value_counts(normalize=True).to_frame().style.format(\"{:.1%}\")"
   ]
  },
  {
   "cell_type": "code",
   "execution_count": null,
   "id": "39778b91",
   "metadata": {},
   "outputs": [],
   "source": [
    "# BAD vs REASON\n",
    "g = df.groupby('REASON')\n",
    "g['ESTADO'].value_counts(normalize=True).to_frame().style.format(\"{:.1%}\")"
   ]
  },
  {
   "cell_type": "markdown",
   "id": "34337923",
   "metadata": {},
   "source": [
    "###### Observaciones\n",
    "* Como ya mencionamos antes, se observa un gran desbalance en los datos contenidos en la variable objetivo, ya que contamos con más préstamos cumplidos que incumplidos, por lo que habrá que realizar luego un balanceo en esta variables.\n",
    "* El comportamiento de la variable BAD respecto a la variable JOB y la variable REASON por el momento no nos dice mucho, ya que tenemos nuestra clase objetivo desbalanceada (nuestro dataset posee más datos de prestamos cumplidos que no cumpidos) Pero aún así podemos decir lo siguiente: \n",
    " * BAD VS JOB - En este caso el trabajo toma más influencia respecto a si el cliente paga o no el préstamo. Los trabajadores de oficina (office) y los ejecutivos profesionales (profExe) tienen la mayor probabilidad de ser buenos pagadores de sus préstamos, mientras que los trabajadores de ventas (sales) y por cuenta propia (self) tienen la mayor probabilidad de ser malos pagadores. \n",
    " * BAD VS REASON - Vemos que la razón de la adquisición de un préstamo no tiene mucho que ver con si el cliente es o no un mal pagador. Ya sea que haya adquirido el préstamo para mejoras en el hogar o consolidación de deuda."
   ]
  },
  {
   "cell_type": "code",
   "execution_count": null,
   "id": "929f1247",
   "metadata": {},
   "outputs": [],
   "source": [
    "# Ahora eliminamos la variable estado\n",
    "df = df.drop('ESTADO', axis=1)"
   ]
  },
  {
   "cell_type": "markdown",
   "id": "f7a13888",
   "metadata": {},
   "source": [
    "### OBS 2- Análisis del comportamiento de BAD - Variables numericas"
   ]
  },
  {
   "cell_type": "code",
   "execution_count": null,
   "id": "d66f92ed",
   "metadata": {},
   "outputs": [],
   "source": [
    "# Estadísticas descriptivas de prestamos PAGADOS - Variables númericas\n",
    "df[df['BAD']==0].drop('BAD', axis=1).describe().style.format(\"{:.2f}\")"
   ]
  },
  {
   "cell_type": "code",
   "execution_count": null,
   "id": "46ee0f97",
   "metadata": {},
   "outputs": [],
   "source": [
    "# Estadísticas descriptivas de prestamos INCUMPLIDOS - Variables númericas\n",
    "df[df['BAD']==1].drop('BAD', axis=1).describe().style.format(\"{:.2f}\")"
   ]
  },
  {
   "cell_type": "markdown",
   "id": "5c2c6c2a",
   "metadata": {},
   "source": [
    "##### Gráficas"
   ]
  },
  {
   "cell_type": "code",
   "execution_count": null,
   "id": "7e84397d",
   "metadata": {},
   "outputs": [],
   "source": [
    "sns.boxplot(df[\"BAD\"],palette=\"tab10\")"
   ]
  },
  {
   "cell_type": "code",
   "execution_count": null,
   "id": "c338c788",
   "metadata": {},
   "outputs": [],
   "source": [
    "sns.boxplot(df[\"BAD\"],df['MORTDUE'])"
   ]
  },
  {
   "cell_type": "code",
   "execution_count": null,
   "id": "eeb8c9c4",
   "metadata": {},
   "outputs": [],
   "source": [
    "sns.boxplot(df[\"BAD\"],df['VALUE'],palette=\"tab10\")"
   ]
  },
  {
   "cell_type": "code",
   "execution_count": null,
   "id": "87480d36",
   "metadata": {},
   "outputs": [],
   "source": [
    "sns.boxplot(df[\"BAD\"],df['YOJ'],palette=\"tab10\")"
   ]
  },
  {
   "cell_type": "code",
   "execution_count": null,
   "id": "c7236014",
   "metadata": {},
   "outputs": [],
   "source": [
    "sns.boxplot(df[\"BAD\"],df['DEROG'],palette=\"tab10\")"
   ]
  },
  {
   "cell_type": "code",
   "execution_count": null,
   "id": "4edfa209",
   "metadata": {},
   "outputs": [],
   "source": [
    "sns.boxplot(df[\"BAD\"],df['DELINQ'],palette=\"tab10\")"
   ]
  },
  {
   "cell_type": "code",
   "execution_count": null,
   "id": "4d50f530",
   "metadata": {},
   "outputs": [],
   "source": [
    "sns.boxplot(df[\"BAD\"],df['CLAGE'],palette=\"tab10\")"
   ]
  },
  {
   "cell_type": "code",
   "execution_count": null,
   "id": "05e633e2",
   "metadata": {},
   "outputs": [],
   "source": [
    "sns.boxplot(df[\"BAD\"],df['NINQ'],palette=\"tab10\")"
   ]
  },
  {
   "cell_type": "code",
   "execution_count": null,
   "id": "bc970525",
   "metadata": {},
   "outputs": [],
   "source": [
    "sns.boxplot(df[\"BAD\"],df['CLNO'],palette=\"tab10\")"
   ]
  },
  {
   "cell_type": "code",
   "execution_count": null,
   "id": "feb57fed",
   "metadata": {},
   "outputs": [],
   "source": [
    "sns.boxplot(df[\"BAD\"],df['DEBTINC'],palette=\"tab10\")"
   ]
  },
  {
   "cell_type": "markdown",
   "id": "c99853e0",
   "metadata": {},
   "source": [
    "###### Observaciones\n",
    "\n",
    "De las estadísticas anteriores podemos decir que:\n",
    "* El monto del préstamo solicitado (LOAN), el monto de la hipoteca adeudada (MORTDUE) y el valor actual del bien o propiedad (VALUE) son estadísticamente consistentes tanto para los préstamos que fueron PAGADOS como para los que resultaron en INCUMPLIMIENTO. Esto quiere decir que esas variables pueden no proporcionar un poder de discriminación significativo para separar las dos clases de la variable objetivo.\n",
    "* El número de años en el trabajo actual (YOJ) parece discriminar las dos clases, ya que los INCUMPLIMIENTOS parecen más frecuentes en los contratistas que tienen una antigüedad más corta. Esta tendencia está respaldada por los cuantiles de valor promedio correspondientes, que indican una distribución sesgada hacia una antigüedad más corta.\n",
    "* Se aplican consideraciones similares a las variables relacionadas con el historial crediticio del contratista, tales como: el número de informes despectivos importantes (DEROG), el número de líneas de crédito morosas (DELINQ), la antigüedad de la línea de crédito más antigua en meses (CLAGE) y el número de consultas crediticias recientes (NINQ). En el caso de INCUMPLIMIENTO, la distribución de estas variables está sesgada hacia valores que sugieren una historia crediticia peor que la distribución correspondiente para los contratistas de préstamos PAGADOS.\n",
    "* Finalmente, el número de líneas de crédito abiertas (CLNO) parece estadísticamente consistente en ambos casos, lo que sugiere que esta variable no tiene un poder de discriminación significativo."
   ]
  },
  {
   "cell_type": "markdown",
   "id": "188f016d",
   "metadata": {},
   "source": [
    "# 3. Preparación de los datos"
   ]
  },
  {
   "cell_type": "markdown",
   "id": "6019a9e2",
   "metadata": {},
   "source": [
    "## 3.1 Limpieza de datos\n",
    "### 3.1.1 Tratamiento de datos nulos\n",
    "\n",
    "Cómo observamos en la fase EDA la data tiene valores NaN, por ello algunos se van a rellenar con la media (valores numericos) o la moda (para categorias)\n"
   ]
  },
  {
   "cell_type": "code",
   "execution_count": null,
   "id": "8879027b",
   "metadata": {},
   "outputs": [],
   "source": [
    "# Rellenamos la data de variables categoricas con la moda\n",
    "for column in ['REASON','JOB']:\n",
    "    df[column].fillna(df[column].mode()[0], inplace=True)\n",
    "\n",
    "# Rellenamos la data de variables númericas con la media\n",
    "for column in ['VALUE','CLNO','CLAGE','NINQ','YOJ','MORTDUE','DELINQ','DEROG','DEBTINC']:\n",
    "    df[column].fillna(round(df[column].mean()), inplace=True)\n",
    "\n",
    "del column \n",
    "\n",
    "# Mostramos el contenido de la tabla\n",
    "with pd.option_context('display.max_rows', 20, 'display.max_columns', None):\n",
    "    display(df)"
   ]
  },
  {
   "cell_type": "code",
   "execution_count": null,
   "id": "484a3f7f",
   "metadata": {},
   "outputs": [],
   "source": [
    "# Verificamos que no nos queden mas datos por NaN por variable\n",
    "df.isna().sum().sort_values()"
   ]
  },
  {
   "cell_type": "markdown",
   "id": "0796f69e",
   "metadata": {},
   "source": [
    "### 3.1.2 Columnas irrelevantes\n",
    "\n",
    "Una columna irrelevante puede ser:\n",
    "\n",
    "* Una columna que contiene información relevante para el problema que queremos resolver\n",
    "* Una columna categórica pero con un sólo nivel\n",
    "* Una columna numérica pero con un sólo valor\n",
    "* Columnas con información redundante De igual manera, si nos encontramos con la duda de si alguna columna puede ser relevante o no, lo que haremos será dejarla (y más adelante en posteriores etapas podremos darnos cuenta si se debe preservar o no)."
   ]
  },
  {
   "cell_type": "code",
   "execution_count": null,
   "id": "a30614c8",
   "metadata": {},
   "outputs": [],
   "source": [
    "# Conteo de los niveles en las diferentes columnas categoricas\n",
    "cols_cat = ['JOB', 'REASON']\n",
    "for col in cols_cat:\n",
    "    print(f'Columna {col}: {df[col].nunique()} subniveles')"
   ]
  },
  {
   "cell_type": "markdown",
   "id": "78c4fe00",
   "metadata": {},
   "source": [
    "###### Observación\n",
    "Todas las columnas categóricas presentan más de 1 subnivel. No eliminaremos ninguna."
   ]
  },
  {
   "cell_type": "code",
   "execution_count": null,
   "id": "28ae1cf1",
   "metadata": {},
   "outputs": [],
   "source": [
    "# Vemos que no haya columnas numéricas con un sólo valor\n",
    "df.describe()"
   ]
  },
  {
   "cell_type": "markdown",
   "id": "1bfa39c7",
   "metadata": {},
   "source": [
    "###### Observación\n",
    "En este caso la desviación estandas es diferente a 0 en todos los casos, es decir que tenemos valores diversos en todas las columnas númericas. No eliminaremos ninguna columna."
   ]
  },
  {
   "cell_type": "markdown",
   "id": "edd8b86c",
   "metadata": {},
   "source": [
    "### 3.1.3 Filas repetidas"
   ]
  },
  {
   "cell_type": "code",
   "execution_count": null,
   "id": "0d3b12a7",
   "metadata": {},
   "outputs": [],
   "source": [
    "print(f'Tamanio del set antes de eliminar las filas repetidas: {df.shape}')\n",
    "df.drop_duplicates(inplace=True)\n",
    "print(f'Tamanio del set despues de eliminar las filas repetidas: {df.shape}')"
   ]
  },
  {
   "cell_type": "markdown",
   "id": "dce5e174",
   "metadata": {},
   "source": [
    "###### Observación\n",
    "El dataset no contenía filas repetidas"
   ]
  },
  {
   "cell_type": "markdown",
   "id": "59588306",
   "metadata": {},
   "source": [
    "### 3.1.4 Outliers en las variables numéricas\n",
    "Creemos gráficas tipo \"boxplot\" de las columnas numéricas:"
   ]
  },
  {
   "cell_type": "code",
   "execution_count": null,
   "id": "044cb2ce",
   "metadata": {},
   "outputs": [],
   "source": [
    "# Generamos gráficas individuales pues las variables numéricas\n",
    "# estan en rangos diferentes\n",
    "cols_num = ['LOAN', 'MORTDUE', 'VALUE', 'YOJ', 'DEROG', 'DELINQ',\n",
    "            'CLAGE', 'NINQ', 'CLNO','DEBTINC']\n",
    "\n",
    "fig, ax = plt.subplots(nrows=10, ncols=1, figsize=(8,30))\n",
    "fig.subplots_adjust(hspace=0.5)\n",
    "\n",
    "# Con este grafico tipo boxplot vamos a poder ver que valores se estan \n",
    "# saliendo del rango normal que tienen esas cantidades numericas\n",
    "for i, col in enumerate(cols_num):\n",
    "    sns.boxplot(x=col, data=df, ax=ax[i])\n",
    "    ax[i].set_title(col)\n",
    "\n",
    "    "
   ]
  },
  {
   "cell_type": "markdown",
   "id": "19733ca9",
   "metadata": {},
   "source": [
    "###### Observaciones\n",
    "* No tenemos valores negativos\n",
    "* En la variable CLAGE que es la antiguedad de línea de crédito más antigua en meses, tenemos que algunas superan las 600. Entonces nuestro criterio será realizar un recorte de los datos de CLAGE > 600 ya que los consideramos valores atípicos\n",
    "\n",
    "####  Recorte (capping)\n",
    "* Cambia el valor de los outliers a los límites inferior y superior definidos en la detección.\n",
    "* Ventaja: preserva la cantidad de datos original\n",
    "* Desventaja: modifica la distribución de los datos \n"
   ]
  },
  {
   "cell_type": "code",
   "execution_count": null,
   "id": "cd089844",
   "metadata": {},
   "outputs": [],
   "source": [
    "# Establecemos el valor máximo para la edad\n",
    "valor_maximo = 600\n",
    "\n",
    "# Establecemos el límite superior de edad para aplicar la técnica de capping\n",
    "limite_superior = 600\n",
    "\n",
    "# Aplicamos la tecnica de capping solo a los valores que exceden el límite superior de 100\n",
    "df.loc[df['CLAGE'] > limite_superior, 'CLAGE'] = valor_maximo\n",
    "\n",
    "# Visualizamos la modificación\n",
    "plt.boxplot(df[\"CLAGE\"], vert=False, patch_artist=True)\n",
    "plt.show()\n"
   ]
  },
  {
   "cell_type": "markdown",
   "id": "d3432ab8",
   "metadata": {},
   "source": [
    "### 3.1.5 Errores tipográficos en variables categóricas\n",
    "\n",
    "En una variable categórica pueden aparecer sub-niveles como \"unknown\" y \"UNK\" que para nosotros son equivalentes pero que para nuestro programa parecerían diferentes. Se deben unificar estos sub-niveles."
   ]
  },
  {
   "cell_type": "code",
   "execution_count": null,
   "id": "7b38aaa6",
   "metadata": {},
   "outputs": [],
   "source": [
    "# Graficar los subniveles de cada variable categórica\n",
    "cols_cat = ['JOB', 'REASON']\n",
    "\n",
    "fig, ax = plt.subplots(nrows=2, ncols=1, figsize=(10,15))\n",
    "fig.subplots_adjust(hspace=1)\n",
    "\n",
    "for i, col in enumerate(cols_cat):\n",
    "  sns.countplot(x=col, data=df, ax=ax[i])\n",
    "  ax[i].set_title(col)\n",
    "  ax[i].set_xticklabels(ax[i].get_xticklabels(),rotation=30)"
   ]
  },
  {
   "cell_type": "markdown",
   "id": "6c82f562",
   "metadata": {},
   "source": [
    "###### Observación\n",
    "No se observan errores tipográficos en las variables categoricas."
   ]
  },
  {
   "cell_type": "markdown",
   "id": "5d6d2286",
   "metadata": {},
   "source": [
    "### 3.1.6 Transformación de datos\n",
    "Como comentamos anteriormente, todas las columnas deben ser de tipo numéricas, y para corregir las que son de tipo object vamos aplicar una técnica llamada One-Hot la cual consiste en crear columnas para cada valor del object y rellenarlas con 0 y 1 si corresponde o no."
   ]
  },
  {
   "cell_type": "markdown",
   "id": "eac3ff41",
   "metadata": {},
   "source": [
    "#### Trasnformación variable JOB"
   ]
  },
  {
   "cell_type": "code",
   "execution_count": null,
   "id": "8f44533a",
   "metadata": {},
   "outputs": [],
   "source": [
    "# Le cambiamos el tipo de la columna JOB de object a category\n",
    "df[\"JOB\"] = df[\"JOB\"].astype(\"category\")\n",
    "\n",
    "# Creamos un objeto OneHotEncoder\n",
    "codificador = OneHotEncoder()\n",
    "\n",
    "# Codificamos la variable categórica \"JOB\"\n",
    "codificacion = codificador.fit_transform(df[[\"JOB\"]])\n",
    "\n",
    "# Obtenemos los nombres de las nuevas columnas\n",
    "nombres_columnas = codificador.get_feature_names([\"JOB\"])\n",
    "\n",
    "# Creamos un nuevo DataFrame con las nuevas columnas\n",
    "nuevas_cols = pd.DataFrame(codificacion.toarray(), columns=nombres_columnas)\n",
    "\n",
    "# Concatenamos el nuevo DataFrame con el DataFrame original\n",
    "df = pd.concat([df, nuevas_cols], axis=1)\n",
    "\n",
    "# Borramos la columna categórica original\n",
    "df.drop(\"JOB\", axis=1, inplace=True)\n",
    "\n",
    "# Visualizamos el contenido de nuestros datos\n",
    "print(df.head())"
   ]
  },
  {
   "cell_type": "markdown",
   "id": "610f8f92",
   "metadata": {},
   "source": [
    "##### Transformación variables REASON"
   ]
  },
  {
   "cell_type": "code",
   "execution_count": null,
   "id": "4894a8b6",
   "metadata": {},
   "outputs": [],
   "source": [
    "# Le cambiamos el tipo de la columna JOB de object a category\n",
    "df[\"REASON\"] = df[\"REASON\"].astype(\"category\")\n",
    "\n",
    "# Codificamos la variable categórica \"JOB\"\n",
    "codificacion = codificador.fit_transform(df[[\"REASON\"]])\n",
    "\n",
    "# Obtenemos los nombres de las nuevas columnas\n",
    "nombres_columnas = codificador.get_feature_names([\"REASON\"])\n",
    "\n",
    "# Creamos un nuevo DataFrame con las nuevas columnas\n",
    "nuevas_cols = pd.DataFrame(codificacion.toarray(), columns=nombres_columnas)\n",
    "\n",
    "# Concatenamos el nuevo DataFrame con el DataFrame original\n",
    "df = pd.concat([df, nuevas_cols], axis=1)\n",
    "\n",
    "# Borramos la columna categórica original\n",
    "df.drop(\"REASON\", axis=1, inplace=True)\n",
    "\n",
    "# Visualizamos el contenido de nuestros datos\n",
    "print(df.head())"
   ]
  },
  {
   "cell_type": "code",
   "execution_count": null,
   "id": "bf587f0f",
   "metadata": {},
   "outputs": [],
   "source": [
    "# visualizamos nuevamente todas nuestras columnas\n",
    "df.columns\n"
   ]
  },
  {
   "cell_type": "markdown",
   "id": "9cc0fa88",
   "metadata": {},
   "source": [
    "###### Observaciones\n",
    "* Se puede observar que las categorias JOB y REASON fueron convertidas a números\n",
    "* Se observa que por cada categoria al final de la tabla se ha añadido una variable dummy."
   ]
  },
  {
   "cell_type": "markdown",
   "id": "44ac50ba",
   "metadata": {},
   "source": [
    "## 3.3 Estandarización"
   ]
  },
  {
   "cell_type": "markdown",
   "id": "25e5ee40",
   "metadata": {},
   "source": [
    "### 3.2.1 Graficando los datos en escala original"
   ]
  },
  {
   "cell_type": "code",
   "execution_count": null,
   "id": "afc73f29",
   "metadata": {},
   "outputs": [],
   "source": [
    "# Identificamos las columnas numéricas a graficar\n",
    "numeric_cols = ['LOAN', 'MORTDUE', 'VALUE', 'YOJ', 'DEROG', \n",
    "                'DELINQ', 'CLAGE', 'NINQ', 'CLNO', 'DEBTINC']\n",
    "\n",
    "# Graficamos los datos en escala original\n",
    "fig, axs = plt.subplots(nrows=3, ncols=4, figsize=(20, 8))\n",
    "axs = axs.flatten()\n",
    "\n",
    "# Graficamos todos los datos juntos\n",
    "for i, col in enumerate(numeric_cols):\n",
    "    axs[0].plot(df[col], linewidth=0.5, label=col)\n",
    "\n",
    "axs[0].legend(loc='upper right')\n",
    "axs[0].set_title(\"Datos Originales Juntos\")\n",
    "\n",
    "# Graficamos cada variable por separado\n",
    "for i, col in enumerate(numeric_cols):\n",
    "    axs[i+1].plot(df[col], linewidth=0.5, label=col, color='C'+str(i))\n",
    "    axs[i+1].legend(loc='upper right')\n",
    "    axs[i+1].set_title(col)\n",
    "\n",
    "# Ajustamos los espacios entre subplots\n",
    "plt.tight_layout()\n",
    "plt.show()"
   ]
  },
  {
   "cell_type": "markdown",
   "id": "f4a5f8e9",
   "metadata": {},
   "source": [
    "###### Observaciones\n",
    "En la primera subfigura podemos visualizar que la mayoría de los datos pasan desapercibidos, no podemos realizar un buen análisis de todos ellos ya que se encuentran en diferentes magnitudes. Por ende para poder tener un estandar y así poder homogeneizar, vamos a proceder a escalar todos estos datos para tener una unidad de medida que nos ayude  a visualizar mejor y realizar un mejor análisis.\n",
    "\n",
    "Ahora bien, cuando graficamos las demás columnas de nuestros datos podemos visualizar que si tenemos muchos datos para analizar, pero al graficarlos todos juntos, por la escala que tienen algunas columnas (escalas muy grandes), no permite que apreciemos los demás datos.\n"
   ]
  },
  {
   "cell_type": "markdown",
   "id": "b8d9b5a3",
   "metadata": {},
   "source": [
    "### 3.3.1 Robust Scaler \n",
    "El método RobustScaler es una técnica de escalamiento que se utiliza para preparar datos numéricos en el aprendizaje automático. La idea detrás del escalamiento robusto es hacer que los datos sean más resistentes (robustos) a valores atípicos (outliers) en la distribución de los datos.\n",
    "\n",
    "Sus ventajas son: \n",
    "* Su principal ventaja es que es resistente a los valores atípicos, lo que significa que estos no afectarán significativamente la escala de los datos. \n",
    "* RobustScaler preserva la forma de la distribución original de los datos y no requiere que sigan una distribución específica, lo que lo hace útil para conjuntos de datos grandes y complejos.\n",
    "\n"
   ]
  },
  {
   "cell_type": "code",
   "execution_count": null,
   "id": "1cb422b3",
   "metadata": {},
   "outputs": [],
   "source": [
    "# Separamos la variable objetivo y variables dummy\n",
    "cols_to_ignore =['BAD','JOB_Mgr', 'JOB_Office',\n",
    "       'JOB_Other', 'JOB_ProfExe', 'JOB_Sales', 'JOB_Self', 'REASON_DebtCon',\n",
    "       'REASON_HomeImp']\n",
    "\n",
    "# Ignoramos las variables dummy y la objetivo\n",
    "X = df.drop(cols_to_ignore, axis=1)\n",
    "\n",
    "# Inicializamos el scaler\n",
    "df_robust_scaler = RobustScaler()\n",
    "\n",
    "# Estandarizamos las variables predictoras\n",
    "df_robust_scaler = df_robust_scaler.fit_transform(X)\n",
    "\n",
    "# Creamos un nuevo DataFrame con las variables estandarizadas y la variable objetivo\n",
    "df_scaled = pd.concat([df[cols_to_ignore], pd.DataFrame(df_robust_scaler, columns=X.columns)], axis=1)\n",
    "\n",
    "# Graficamos los datos escalados con un KDE plot\n",
    "plt.figure(figsize=(12, 8))\n",
    "for i, column in enumerate(X.columns):\n",
    "    sns.kdeplot(df_robust_scaler[:, i], label=column)\n",
    "plt.legend()\n",
    "plt.show()"
   ]
  },
  {
   "cell_type": "markdown",
   "id": "1885bd2a",
   "metadata": {},
   "source": [
    "## 3.2 Normalización\n"
   ]
  },
  {
   "cell_type": "markdown",
   "id": "e5d20fbe",
   "metadata": {},
   "source": [
    "### 3.2.2 Normalizer\n",
    "La normalización se utiliza para escalar los valores de las características de un conjunto de datos a un rango específico."
   ]
  },
  {
   "cell_type": "code",
   "execution_count": null,
   "id": "c5f6c429",
   "metadata": {},
   "outputs": [],
   "source": [
    "# Separamos la variable objetivo y variables predictoras\n",
    "y = df_scaled['BAD'] \n",
    "\n",
    "# Ignoramos solo laa variable objetivo\n",
    "X = df_scaled.drop(['BAD'], axis=1)\n",
    "\n",
    "# Inicializamos \n",
    "df_normalizer = Normalizer()\n",
    "\n",
    "# Normalizamos las variables predictoras\n",
    "df_normalizer = df_normalizer.fit_transform(X)\n",
    "\n",
    "# Graficamos los datos escalados con un KDE plot\n",
    "plt.figure(figsize=(12, 8))\n",
    "for i, column in enumerate(X.columns):\n",
    "    sns.kdeplot(df_normalizer[:, i], label=column)\n",
    "plt.legend()\n",
    "plt.show()"
   ]
  },
  {
   "cell_type": "code",
   "execution_count": null,
   "id": "2979627e",
   "metadata": {},
   "outputs": [],
   "source": [
    "# Visualizamos las densidades de cada variable luego se haber sido escaladas\n",
    "\n",
    "# Convertimos X_scaled en un DataFrame de pandas antes de usar el método plot()\n",
    "X_scaled_df = pd.DataFrame(df_normalizer, columns=X.columns)\n",
    "fig = plt.figure(figsize=(15, 15))\n",
    "ax = fig.gca()\n",
    "X_scaled_df.plot(ax=ax, kind='density', subplots=True, layout=(5,4), sharex=False)\n",
    "plt.show()"
   ]
  },
  {
   "cell_type": "code",
   "execution_count": null,
   "id": "d72eabef",
   "metadata": {},
   "outputs": [],
   "source": [
    "# Concatenamos la variable objetivo con las variables predictoras escaladas y las variables dummy\n",
    "df_scaled = pd.concat([y, pd.DataFrame(df_normalizer, columns=X.columns)], axis=1)\n",
    "\n",
    "# Mostramos el resultado\n",
    "print(df_scaled.head())"
   ]
  },
  {
   "cell_type": "markdown",
   "id": "b6cb34c4",
   "metadata": {},
   "source": [
    "## 3.4 Selección de características"
   ]
  },
  {
   "cell_type": "markdown",
   "id": "d88364b9",
   "metadata": {},
   "source": [
    "### 3.4.1 Análisis de correlación"
   ]
  },
  {
   "cell_type": "code",
   "execution_count": null,
   "id": "8dd31294",
   "metadata": {},
   "outputs": [],
   "source": [
    "# Correlacion de pearson basado en metodos estadísticos\n",
    "df_corr = df_scaled.copy()\n",
    "correlacion = df_corr.corr(method='pearson')\n",
    "# Correlacion entre caracteriscticas\n",
    "correlacion "
   ]
  },
  {
   "cell_type": "code",
   "execution_count": null,
   "id": "11b79521",
   "metadata": {},
   "outputs": [],
   "source": [
    "df_corr.info()"
   ]
  },
  {
   "cell_type": "code",
   "execution_count": null,
   "id": "78db3e64",
   "metadata": {},
   "outputs": [],
   "source": [
    "correlation = df_corr.corr()\n",
    "plt.figure(figsize=(15,15))\n",
    "ax = sns.heatmap(correlation, vmax=1, square=True, annot=True, cmap='viridis')\n",
    "plt.title(\"Matriz de correlacion\", fontsize=18)\n",
    "plt.show()"
   ]
  },
  {
   "cell_type": "markdown",
   "id": "47db4c02",
   "metadata": {},
   "source": [
    "###### Nota\n",
    "Hacemos un análisis de cómo es la relación entre las variables, ya que lo que no queremos en este tipo de modelos es que entre variables haya algún vínculo importante ya que esto\n",
    "afectaría el nivel de performance del modelo. \n",
    "Por otro lado, lo que si queremos visualizar es que haya un mayor grado de interacción entre las variables independientes y las dependientes."
   ]
  },
  {
   "cell_type": "code",
   "execution_count": null,
   "id": "7925b719",
   "metadata": {},
   "outputs": [],
   "source": [
    "df_corr['BAD'] = df_corr['BAD'].astype(int)\n",
    "correlation = df_corr.corr()"
   ]
  },
  {
   "cell_type": "code",
   "execution_count": null,
   "id": "3e3cd1d4",
   "metadata": {},
   "outputs": [],
   "source": [
    "correlation = df_corr.corr()\n",
    "plt.figure(figsize=(15,15))\n",
    "ax = sns.heatmap(correlation, vmax=1, square=True, annot=True, cmap='viridis')\n",
    "plt.title(\"Matriz de correlacion\", fontsize=18)\n",
    "plt.show()"
   ]
  },
  {
   "cell_type": "markdown",
   "id": "8cdd871b",
   "metadata": {},
   "source": [
    "###### Observaciones\n",
    "Las variables más correlacionadas con el estado del préstamo (BAD) son aquellas relacionadas con el historial crediticio (DELINQ, DEROG, NINQ), lo que indica que estas variables tendrán un mayor poder discriminativo. Además, estas variables presentan una leve correlación entre sí, lo que sugiere que parte de la información que proporcionan podría ser redundante.\n"
   ]
  },
  {
   "cell_type": "code",
   "execution_count": null,
   "id": "9e4e90e6",
   "metadata": {},
   "outputs": [],
   "source": [
    "relevante_features = correlation[correlation>0.16]\n",
    "relevante_features"
   ]
  },
  {
   "cell_type": "markdown",
   "id": "c6d1244f",
   "metadata": {},
   "source": [
    "###### Observación\n",
    "Acá hacemos un análisis más profundo para visualizar las correlaciones que son mayores al grado de correlación > 0.16. Cuando visualizamos la fila que representa a la interacción entre las posibles variables predictoras y la variable target, obtenemos que DEROG, DELINQ y NINQ son las que más se correlacionan con BAD cómo ya hemos mencionado antes. Las demás variables no explican mucho el modelo."
   ]
  },
  {
   "cell_type": "code",
   "execution_count": null,
   "id": "ee927deb",
   "metadata": {},
   "outputs": [],
   "source": [
    "cor_target = abs(correlation['BAD'])\n",
    "cor_target"
   ]
  },
  {
   "cell_type": "markdown",
   "id": "73c14e35",
   "metadata": {},
   "source": [
    "###### Observación\n",
    "De esta observación sacamos que:\n",
    "* La variable que tiene más interacción con BAD es DELINQ con 0.319108, mientras que la variable menos relacionada con BAD es JOB_Mgr con  0.003734, esta interacción es casi 0 así que procederemos a eliminar esta columna, ya que no mejora el modelo. Por otro lado tambíen eleminaremos la variable 'JOB_Other' ya que tiene 1% de interacción con BAD .\n",
    "* Además entre las variables REASON_DebtCon y REASON_HomeImp existe una relación lineal perfectamente inversa entre ellas. o sea que cuando una variable aumenta en valor la otra variable disminuye exactamente la misma proporción. Basicamente se está presentando una multicolinealidad perfecta entre ellas, por lo que la presencia de ambas variables no aporta información al modelo. Para evitar esta multicolinealidad eliminaremos la columna REASON_HomeImp.\n"
   ]
  },
  {
   "cell_type": "markdown",
   "id": "daca6b1d",
   "metadata": {},
   "source": [
    "##### Eliminación columna JOB_Mgr y REASON_HomeImp"
   ]
  },
  {
   "cell_type": "code",
   "execution_count": null,
   "id": "5ea9c783",
   "metadata": {},
   "outputs": [],
   "source": [
    "# Eliminamos la columna JOB_Mgr y REASON_HomeImp\n",
    "df_scaled = df_scaled.drop(['JOB_Mgr', 'REASON_HomeImp', 'JOB_Other'] , axis=1)"
   ]
  },
  {
   "cell_type": "code",
   "execution_count": null,
   "id": "d594b62c",
   "metadata": {},
   "outputs": [],
   "source": [
    "# Visualizamos las columnas\n",
    "df_scaled.columns"
   ]
  },
  {
   "cell_type": "code",
   "execution_count": null,
   "id": "2e94a77a",
   "metadata": {},
   "outputs": [],
   "source": [
    "# Visualizamos la información de nuestro dataset\n",
    "df_scaled.info()"
   ]
  },
  {
   "cell_type": "markdown",
   "id": "6c5ef14d",
   "metadata": {},
   "source": [
    "### 3.4.2 Selección de variables relevantes"
   ]
  },
  {
   "cell_type": "code",
   "execution_count": null,
   "id": "f9f08e3d",
   "metadata": {},
   "outputs": [],
   "source": [
    "cor_target = abs(correlation['BAD'])\n",
    "relevant_features = cor_target[cor_target>0.07]\n",
    "relevant_features"
   ]
  },
  {
   "cell_type": "markdown",
   "id": "df6e92b6",
   "metadata": {},
   "source": [
    "###### Nota 1\n",
    "Acá seleccionamos las mejores características del modelo. No todas las variables son las que mejor son las que mejores nos van a explicar el modelo, hay algunas variables que sí explican mejor el modelo y otras que no, que en vez de aplicar un mejor ajuste nos añaden distorsión al modelo.\n",
    "\n",
    "###### Observaciones\n",
    "Observamos las variables que tengan mayor interacción con BAD que sea el 7%.\n",
    "\n",
    "###### Nota 2\n",
    "Cómo estas variables no sobrepasan el 50% que es lo que muchos autores nos dicen que es el porcentaje de interacción que tiene que haber entre la variable target y las predictoras para que puedan ser explicativas, entonces procederemos a utilizar todas las variables. Si hubiese sido el caso en que una variable explica más el modelo, nos hubieramos quedado con esa variable.\n"
   ]
  },
  {
   "cell_type": "markdown",
   "id": "ed290dd6",
   "metadata": {},
   "source": [
    "## 3.5 División de los datos en conjunto de entrenamiento y prueba"
   ]
  },
  {
   "cell_type": "code",
   "execution_count": null,
   "id": "9a0a861e",
   "metadata": {},
   "outputs": [],
   "source": [
    "df_features = df_scaled.copy()"
   ]
  },
  {
   "cell_type": "code",
   "execution_count": null,
   "id": "db6f2313",
   "metadata": {},
   "outputs": [],
   "source": [
    "# Creamos nuestra varible dependiente e independientes\n",
    "X = df_features.drop(['BAD'],axis=1) # Varibles independientes o explicativas\n",
    "Y = df_features[\"BAD\"] # Variable dependiente riesgo crediticio\n"
   ]
  },
  {
   "cell_type": "code",
   "execution_count": null,
   "id": "7ec77aa0",
   "metadata": {},
   "outputs": [],
   "source": [
    "# Separamos los datos de \"train\" en entrenamiento y prueba para probar los algoritmos\n",
    "X_train, X_test, y_train, y_test = train_test_split(X, Y, test_size=0.2)"
   ]
  },
  {
   "cell_type": "code",
   "execution_count": null,
   "id": "328421e7",
   "metadata": {},
   "outputs": [],
   "source": [
    "# Creamos una tabla con los datos de entrenamiento y la variable objetivo\n",
    "train_data = pd.concat([X_train, y_train], axis=1)\n",
    "\n",
    "print(\"Datos del conjunto de entrenamiento\".center(50, \" \") + \"\\n\")\n",
    "print (\"\\n\" + \"Información general \".center(50, \"=\"))\n",
    "print(train_data.info())\n",
    "print(\"\\n\" + \"Dimension del conjunto \".center(50, \"=\"))\n",
    "print(train_data.shape)\n"
   ]
  },
  {
   "cell_type": "code",
   "execution_count": null,
   "id": "6af759b0",
   "metadata": {},
   "outputs": [],
   "source": [
    "# Separamos de nuestros datos de entrenamiento los datos BAD = 0 - Buen pagado BAD = 1 - Mal pagador\n",
    "cant_buen_pag = train_data['BAD'].value_counts()[0]\n",
    "cant_mal_pag = train_data['BAD'].value_counts()[1]"
   ]
  },
  {
   "cell_type": "code",
   "execution_count": null,
   "id": "262373a9",
   "metadata": {},
   "outputs": [],
   "source": [
    "print(\"Porcentaje de datos de prestamos cumplidos y prestamos incumplidos\".center(50, \"=\") + \"\\n\")\n",
    "print (y_train.value_counts(normalize=True) * 100, \"\\n\")\n",
    "print(\"\\n\" + \"Cantidad de prestamos cumplidos\".center(50, \"=\"))\n",
    "print(cant_buen_pag)\n",
    "print(\"\\n\" + \"Cantidad de prestamos incumplidos\".center(50, \"=\"))\n",
    "print(cant_mal_pag)\n"
   ]
  },
  {
   "cell_type": "markdown",
   "id": "b798335c",
   "metadata": {},
   "source": [
    "###### Observaciones\n",
    "Como ya hemos mencionado anteriormente, nuestra variable objetivo se encuentra desbalanceada, por ende deberemos balancearla. Esto es importante debido a que como distribución de la clase es muy desigual puede afectar el desempeño del modelo\n",
    "\n",
    "Si la clase minoritaria (la que tiene menos instancias) tiene una tasa de precisión muy baja, puede que el modelo tienda a predecir siempre la clase mayoritaria, obteniendo así un alto porcentaje de precisión global, pero un desempeño pobre para la clase minoritaria. Esto se debe a que el modelo estará sesgado hacia la clase mayoritaria, lo que podría llevar a que no se detectan bien los casos de la clase minoritaria.\n"
   ]
  },
  {
   "cell_type": "markdown",
   "id": "c8f10178",
   "metadata": {},
   "source": [
    "# 4 Modelados"
   ]
  },
  {
   "cell_type": "markdown",
   "id": "71151d00",
   "metadata": {},
   "source": [
    "## 4.1 Balanceo de clase\n",
    "Para balancear la clase lo que haremos será usar la técnica de asignación de pesos. Esta es una técnica adecuada para conjuntos de datos en los que la clase minoritaria no es muy pequeña, cómo sucede en este caso, ya que nuestra clase minoritaria posee un 20% de data.\n",
    "\n",
    "**Ventajas de la técnica de balance asignación de pesos**\n",
    "* Fácil de implementar.\n",
    "* Mayor precisión en la clasificación\n",
    "* Evita el sobreajuste\n",
    "* Tiene en cuenta la distribución real de las clases\n",
    "* Reduce el costo computacional\n"
   ]
  },
  {
   "cell_type": "code",
   "execution_count": null,
   "id": "31e502b5",
   "metadata": {},
   "outputs": [],
   "source": [
    "# Definimos los pesos para obtener un buen balance\n",
    "class_weights = {0: 1, 1: 7.1}"
   ]
  },
  {
   "cell_type": "markdown",
   "id": "d7c6962c",
   "metadata": {},
   "source": [
    "## 4.2 Selección del modelo\n",
    "Vamos a entrenar distintos modelos para luego determinar cúal nos da una mejor predicción para así definir cual será el modelo definitivo que seleccionaremos."
   ]
  },
  {
   "cell_type": "markdown",
   "id": "fb2eb009",
   "metadata": {},
   "source": [
    "### 4.2.1 Modelo N°1 - \n",
    "#### Regresión Logistica"
   ]
  },
  {
   "cell_type": "code",
   "execution_count": null,
   "id": "07359d41",
   "metadata": {},
   "outputs": [],
   "source": [
    "# Creamos el modelo seleccionando el algoritmo de egresión logística y \n",
    "# Asignamos los pesos que acabamos de calcular a traves del prámetro 'class_weigth'\n",
    "lr_model1 = LogisticRegression(class_weight=class_weights, random_state=42)\n",
    "\n",
    "# Entrenamos el modelo con los datos de entrenamiento\n",
    "%time lr_model1.fit(X_train, y_train)"
   ]
  },
  {
   "cell_type": "markdown",
   "id": "2474e781",
   "metadata": {},
   "source": [
    "### 4.2.2 Modelo N°2\n",
    "#### Regresión Logistica con mejores parametros"
   ]
  },
  {
   "cell_type": "code",
   "execution_count": null,
   "id": "bce37549",
   "metadata": {},
   "outputs": [],
   "source": [
    "# Definimos los parámetros a explorar para la Regresión Logística\n",
    "lr_param_grid = {\n",
    "    'penalty': ['l1', 'l2'],\n",
    "    'C': [0.01, 0.1, 1, 10],\n",
    "    'class_weight': [{0: 1, 1: 7.1}, {0: 1, 1: 7.10}, {0: 1, 1: 7.15}]\n",
    "}\n",
    "\n",
    "# Definimos el modelo de Regresión Logística\n",
    "lr_model2 = LogisticRegression(random_state=42)\n",
    "\n",
    "# Realizar la búsqueda en cuadrícula para la Regresión Logística\n",
    "lr_grid = GridSearchCV(lr_model2, lr_param_grid, cv=5, scoring='accuracy')\n",
    "lr_grid.fit(X_train, y_train)\n",
    "\n",
    "# Obtenemos los mejores parámetros y el mejor puntaje de validación cruzada para la Regresión Logística\n",
    "lr_best_params = lr_grid.best_params_\n",
    "lr_best_score = lr_grid.best_score_\n",
    "\n",
    "# Imprimimos los resultados de la búsqueda en cuadrícula\n",
    "print(f\"Mejores hiperparámetros encontrados: {lr_best_params}\")\n",
    "print(f\"Puntaje de validación cruzada promedio con los mejores hiperparámetros: {lr_best_score}\")\n",
    "\n",
    "# Entrenamos el modelo de Regresión Logística con los mejores parámetros\n",
    "lr_model2 = LogisticRegression(**lr_best_params, random_state=42)\n",
    "%time lr_model2.fit(X_train, y_train)"
   ]
  },
  {
   "cell_type": "markdown",
   "id": "273b02d1",
   "metadata": {},
   "source": [
    "### 4.2.3 Modelo N°3\n",
    "#### Random Forest"
   ]
  },
  {
   "cell_type": "code",
   "execution_count": null,
   "id": "d7299a11",
   "metadata": {},
   "outputs": [],
   "source": [
    "# Creamos el modelo seleccionando el algoritmo Random Forest\n",
    "rf_model3 = RandomForestClassifier(n_estimators=100, class_weight=class_weights, random_state=42)\n",
    "\n",
    "# Entrenamos el modelo con los datos de entrenamiento\n",
    "%time rf_model3.fit(X_train, y_train)"
   ]
  },
  {
   "cell_type": "markdown",
   "id": "d4746810",
   "metadata": {},
   "source": [
    "### 4.2.4 Modelo N°4\n",
    "#### Random Forest con mejores parametros"
   ]
  },
  {
   "cell_type": "code",
   "execution_count": null,
   "id": "d9a7f9ba",
   "metadata": {},
   "outputs": [],
   "source": [
    "# Definimos los parámetros a explorar para el algoritmo de Random Forest\n",
    "rf_param_grid = {\n",
    "    'n_estimators': [100, 200, 300],\n",
    "    'max_depth': [5, 10, 15],\n",
    "    'class_weight': [{0: 1, 1: 7.1}, {0: 1, 1: 10}, {0: 1, 1: 15}]\n",
    "}\n",
    "\n",
    "# Definimos el modelo de Random Forest\n",
    "rf_model4 = RandomForestClassifier(random_state=42)\n",
    "\n",
    "# Realizamos la búsqueda en cuadrícula para Random Forest\n",
    "rf_grid = GridSearchCV(rf_model4, rf_param_grid, cv=5, scoring='accuracy')\n",
    "rf_grid.fit(X_train, y_train)\n",
    "\n",
    "# Obtenemos los mejores parámetros y el mejor puntaje de validación cruzada para Random Forest\n",
    "rf_best_params = rf_grid.best_params_\n",
    "rf_best_score = rf_grid.best_score_\n",
    "\n",
    "# Imprimimos los resultados de la búsqueda en cuadrícula\n",
    "print(f\"Mejores hiperparámetros encontrados: {rf_best_params}\")\n",
    "print(f\"Puntaje de validación cruzada promedio con los mejores hiperparámetros: {rf_best_score}\")\n",
    "\n",
    "# Entrenamos el modelo de Random Forest con los mejores parámetros\n",
    "rf_model4 = RandomForestClassifier(**rf_best_params, random_state=42)\n",
    "%time rf_model4.fit(X_train, y_train)"
   ]
  },
  {
   "cell_type": "markdown",
   "id": "ecb2cd14",
   "metadata": {},
   "source": [
    "## 4.4 Verificación del balance"
   ]
  },
  {
   "cell_type": "code",
   "execution_count": null,
   "id": "67f1a1ca",
   "metadata": {},
   "outputs": [],
   "source": [
    "# Visualizamos que efectivamente se realizó un buen balance en nuestro modelo\n",
    "y_train_pred = lr_model1.predict(X_train)\n",
    "counts_after = pd.Series(y_train_pred).value_counts()\n",
    "\n",
    "print(\"=\"*80)\n",
    "print(\"Distribución de las clases después de aplicar la técnica de asignación por pesos \".\n",
    "      center(50, \"=\") + \"\\n\", counts_after)\n",
    "print(\"=\"*80)"
   ]
  },
  {
   "cell_type": "markdown",
   "id": "dba24c33",
   "metadata": {},
   "source": [
    "###### Observación\n",
    "El peso que asignamos para balancear la clase fue bueno"
   ]
  },
  {
   "cell_type": "markdown",
   "id": "8211d1f3",
   "metadata": {},
   "source": [
    "# 5 Evaluación\n",
    "\n",
    "Para evaluar nuestro modelo haremos uso de las siguientes metricas de para modelos de clasificación:\n",
    "* **Exactitud (accuracy):** mide la proporción de predicciones correctas realizadas por el modelo. Es decir, la cantidad de veces que el modelo acertó dividido por el número total de predicciones. La exactitud se expresa como un valor entre 0 y 1, siendo 1 el valor ideal de una predicción perfecta. En general, un valor alto de exactitud indica que el modelo es preciso y puede ser útil.\n",
    "\n",
    "* **precisión (precision):** mide la proporción de verdaderos positivos (TP) sobre todos los positivos predichos (TP + FP). Es decir, la cantidad de veces que el modelo identificó correctamente un resultado positivo, dividido por el número total de resultados positivos predichos. La precisión se expresa como un valor entre 0 y 1, siendo 1 el valor ideal de una precisión perfecta. Una alta precisión indica que el modelo es muy cuidadoso al predecir los resultados positivos y rara vez da falsos positivos.\n",
    "\n",
    "* **sensibilidad (recall o true positive rate):** mide la proporción de verdaderos positivos (TP) sobre todos los verdaderos positivos y falsos negativos (TP + FN). Es decir, la cantidad de veces que el modelo identificó correctamente un resultado positivo, dividido por el número total de resultados positivos reales. La sensibilidad se expresa como un valor entre 0 y 1, siendo 1 el valor ideal de una sensibilidad perfecta. Una alta sensibilidad indica que el modelo es capaz de identificar la mayoría de los resultados positivos.\n",
    "\n",
    "* **F1 (F1 score):** es una medida combinada de la precisión y la sensibilidad, que se calcula como la media armónica de ambas medidas. El valor F1 se expresa como un valor entre 0 y 1, siendo 1 el valor ideal de un modelo perfecto. Una alta puntuación F1 indica que el modelo es capaz de equilibrar la precisión y la sensibilidad.\n",
    "\n",
    "* **Curva ROC:** es una gráfica que representa la tasa de verdaderos positivos (sensibilidad) en el eje Y y la tasa de falsos positivos (1 - especificidad) en el eje X para diferentes valores umbral de clasificación. El área bajo la curva ROC (AUC) se utiliza como medida de la calidad del modelo, siendo un valor ideal de 1. Un valor de AUC cercano a 0,5 indica que el modelo es tan bueno como una elección aleatoria, mientras que un valor cercano a 1 indica que el modelo es capaz de clasificar perfectamente los datos.\n",
    "\n",
    "* **Matriz de confusión:** es una tabla que muestra la cantidad de verdaderos positivos (TP), falsos positivos (FP), falsos negativos (FN) y verdaderos negativos (TN) que produce el modelo. La interpretación de la matriz de confusión depende del problema que se esté abordando, pero en general, se busca minimizar los errores de clasificación, es decir, los valores de FP y FN. La precisión, la sensibilidad y el valor F1 se pueden calcular a partir de la matriz de confusión.\n",
    "\n",
    "\n"
   ]
  },
  {
   "cell_type": "code",
   "execution_count": null,
   "id": "2d3528e8",
   "metadata": {},
   "outputs": [],
   "source": [
    "# Definimos la función para graficar curva ROC\n",
    "def plot_roc_curve(y_test, y_pred):\n",
    "    fpr, tpr, thresholds = roc_curve(y_test, y_pred)\n",
    "    plt.plot(fpr, tpr, label=\"Curva ROC\")\n",
    "    plt.plot([0, 1], [0, 1], \"k--\", label=\"Clasificador aleatorio\")\n",
    "    plt.xlabel(\"Tasa de falsos positivos\")\n",
    "    plt.ylabel(\"Tasa de verdaderos positivos\")\n",
    "    plt.title(\"Curva ROC\")\n",
    "    plt.legend()\n",
    "    plt.show()"
   ]
  },
  {
   "cell_type": "code",
   "execution_count": null,
   "id": "c051296e",
   "metadata": {},
   "outputs": [],
   "source": [
    "# Definimos la función para graficar matriz de confusión\n",
    "def plot_confusion_matrix(y_test, y_pred):\n",
    "    confusion_mat = confusion_matrix(y_test, y_pred)\n",
    "    sns.heatmap(confusion_mat, annot=True, cmap=\"Blues\", fmt=\"d\")\n",
    "    plt.xlabel(\"Predicción\")\n",
    "    plt.ylabel(\"Etiqueta verdadera\")\n",
    "    plt.title(\"Matriz de Confusión\")\n",
    "    plt.show()"
   ]
  },
  {
   "cell_type": "code",
   "execution_count": null,
   "id": "41c612f2",
   "metadata": {},
   "outputs": [],
   "source": [
    "# Calculamos las demás metricas de evaluación\n",
    "def tabla_metricas(y_test, y_pred):\n",
    "    accuracy = accuracy_score(y_test, y_pred)\n",
    "    f1 = f1_score(y_test, y_pred)\n",
    "    precision = precision_score(y_test, y_pred)\n",
    "    recall = recall_score(y_test, y_pred)\n",
    "    \n",
    "    # Creamos una tabla para imprimir los resultados\n",
    "    tabla = PrettyTable()\n",
    "    tabla.field_names = [\"Métrica\", \"Valor\"]\n",
    "\n",
    "    tabla.add_row([\"Exactitud\", accuracy])\n",
    "    tabla.add_row([\"F1-Score\", f1])\n",
    "    tabla.add_row([\"Precisión\", precision])\n",
    "    tabla.add_row([\"Sensibilidad\", recall])\n",
    "    \n",
    "    return tabla\n"
   ]
  },
  {
   "cell_type": "code",
   "execution_count": null,
   "id": "283e1655",
   "metadata": {},
   "outputs": [],
   "source": [
    "def mostrar_metricas(y_pred):\n",
    "    # Llamamos a las funciones para generar las gráficas\n",
    "    plot_roc_curve(y_test, y_pred)\n",
    "    plot_confusion_matrix(y_test, y_pred)\n",
    "\n",
    "    # Mostramos las demás metricas de evaluación\n",
    "    print(tabla_metricas(y_test, y_pred))"
   ]
  },
  {
   "cell_type": "code",
   "execution_count": null,
   "id": "71dacee9",
   "metadata": {},
   "outputs": [],
   "source": [
    "# Obtenemos las predicciones del modelo\n",
    "y_pred1 = lr_model1.predict(X_test)\n",
    "mostrar_metricas(y_pred1)"
   ]
  },
  {
   "cell_type": "markdown",
   "id": "ad421991",
   "metadata": {},
   "source": [
    "###### Observaciones - Modelo Regresión Logística\n",
    "* Basandonos en los resultados de la evaluación del modelo, podemos ver que el modelo tiene una precisión muy baja. \n",
    "* Vemos que nuestra exactitud no es muy buena tampoco. y el F1 es menor al 50%\n",
    "* Tenemos una cantidad de errores de falsos positivos del 371 y de falsos negativos de 44.\n",
    "En general, estos resultados sugieren que el modelo de machine learning tiene un rendimiento limitado y que puede requerir ajustes para mejorar su rendimiento.\n"
   ]
  },
  {
   "cell_type": "code",
   "execution_count": null,
   "id": "0a4a0f17",
   "metadata": {},
   "outputs": [],
   "source": [
    "y_pred2 = lr_model2.predict(X_test)\n",
    "mostrar_metricas(y_pred2)\n"
   ]
  },
  {
   "cell_type": "markdown",
   "id": "e8b40a93",
   "metadata": {},
   "source": [
    "###### Observación - Modelo Regresión Logística con mejores parametros\n",
    "* Vemos que este modelo no tiene muchos cambios con respecto al anterior. Solo encontramos una pequeña mejora, pero el modelo sigue siendo muy limitado."
   ]
  },
  {
   "cell_type": "code",
   "execution_count": null,
   "id": "338bec3d",
   "metadata": {},
   "outputs": [],
   "source": [
    "y_pred3 = rf_model3.predict(X_test)\n",
    "mostrar_metricas(y_pred3)\n"
   ]
  },
  {
   "cell_type": "markdown",
   "id": "f8fb067c",
   "metadata": {},
   "source": [
    "###### Observaciones - Modelo Random Forest\n",
    "* Observamos que la exactitud es muy buena con un 90%.\n",
    "* En la matriz de confusión vemos que tenemos muy pocos errores en los que se refiere a los falsos positivos, con solo 20 errores. Por otro lado tenemos 96 falsos negativos.\n",
    "* En general, estos resultados sugieren que el modelo de machine learning tiene un buen rendimiento, pero aún hay margen de mejora en términos de sensibilidad.\n"
   ]
  },
  {
   "cell_type": "code",
   "execution_count": null,
   "id": "5658b52e",
   "metadata": {},
   "outputs": [],
   "source": [
    "y_pred4 = rf_model4.predict(X_test)\n",
    "mostrar_metricas(y_pred4)"
   ]
  },
  {
   "cell_type": "markdown",
   "id": "8fdbe593",
   "metadata": {},
   "source": [
    "###### Observaciones - Modelo Random Forest con mejores parametros\n",
    "* Este es el mejor modelo que obtuvimos, con un alto nivel de precisión general. Tiene una exactitud de más del 91%, esto indica que puede ser capaz de identificar correctamente tanto los casos positivos como los negativos en los datos de entrada. \n",
    "* En la matriz de confusión observamos que hay un error de 36 falsos positivos y 71 falsos negativos, y si bien seguimos teniendo errores, a comparación de los anteriores modelos este modelo resulta ser bastante mejor. "
   ]
  },
  {
   "cell_type": "code",
   "execution_count": null,
   "id": "fbdf3d7b",
   "metadata": {},
   "outputs": [],
   "source": [
    "filename = 'ML_RFmodel4_Analisis_crediticio'\n"
   ]
  },
  {
   "cell_type": "code",
   "execution_count": null,
   "id": "d949d529",
   "metadata": {},
   "outputs": [],
   "source": [
    "pickle.dump(rf_model4,open(filename,'wb'))\n"
   ]
  },
  {
   "cell_type": "code",
   "execution_count": null,
   "id": "0ba7ba28",
   "metadata": {},
   "outputs": [],
   "source": [
    "filename = 'ML_LRmodel2_Analisis_crediticio'\n",
    "pickle.dump(lr_model2,open(filename,'wb'))"
   ]
  },
  {
   "cell_type": "code",
   "execution_count": null,
   "id": "0ff8d87c",
   "metadata": {},
   "outputs": [],
   "source": [
    "# Guarda el conjunto de prueba en un archivo CSV\n",
    "pd.DataFrame(X_test).to_csv(\"test.csv\", header=False, index=False)"
   ]
  }
 ],
 "metadata": {
  "kernelspec": {
   "display_name": "Python 3 (ipykernel)",
   "language": "python",
   "name": "python3"
  },
  "language_info": {
   "codemirror_mode": {
    "name": "ipython",
    "version": 3
   },
   "file_extension": ".py",
   "mimetype": "text/x-python",
   "name": "python",
   "nbconvert_exporter": "python",
   "pygments_lexer": "ipython3",
   "version": "3.9.16"
  }
 },
 "nbformat": 4,
 "nbformat_minor": 5
}
